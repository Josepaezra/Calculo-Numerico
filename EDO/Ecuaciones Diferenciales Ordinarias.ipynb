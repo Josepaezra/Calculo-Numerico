{
 "cells": [
  {
   "cell_type": "markdown",
   "metadata": {},
   "source": [
    "## Universidad Central de Venezuela\n",
    "## Facultad de Ingeniería\n",
    "## Escuela de Ingeniería Eléctrica"
   ]
  },
  {
   "cell_type": "markdown",
   "metadata": {},
   "source": [
    "# <div style=\"text-align: center\"> Ecuaciones Diferenciales Ordinarias </div>"
   ]
  },
  {
   "cell_type": "markdown",
   "metadata": {},
   "source": [
    "## <div style=\"text-align: right\"> Periodo 2020-3 </div>\n",
    "#### <div style=\"text-align: right\"> 19/01/2021  </div>\n",
    "### <div style=\"text-align: right\"> Prof. Gilberto R. Noguera </div>\n",
    "#### <div style=\"text-align: right\"> Alumno: José Páez C.I.: 24 311 351 </div>"
   ]
  },
  {
   "cell_type": "markdown",
   "metadata": {},
   "source": [
    "## Introducción\n",
    "\n",
    "En matemáticas, una ecuación diferencial ordinaria (comúnmente abreviada \"EDO\") es la ecuación diferencial que relaciona una función desconocida de una variable independiente con sus derivadas. Es decir, una sola variable independiente (a diferencia de las ecuaciones diferenciales parciales que involucran derivadas parciales de varias variables), y una o más de sus derivadas respecto de tal variable. \n",
    "\n",
    "Recursos de la física, la ingeniería, la economía, la meteorología, la biología, la química y en aplicaciones como las de modelado en ciencias, se las estudia en diversas áreas (como geometría, mecánica y astronomía) y perspectivas.\n",
    "\n",
    "Matemáticamente, es de conveniente interés, la obtención de una familia de funciones que verifican una ecuación y establecen la solución general. Sólo las ecuaciones diferenciales más sencillas admiten soluciones dadas por fórmulas explícitas (como las lineales asociadas a una teoría desarrollada prácticamente por completo). No obstante, pueden determinarse algunas propiedades de las soluciones de una ecuación diferencial sin requerirse su formulación exacta, clave para resolver la mayoría de las ecuaciones diferenciales no lineales de sumo interés en numerosos casos. Casos carentes de una fórmula auto-contenida para su solución que se suple con la aproximada numéricamente con el auxilio crucial de las computadoras.\n",
    "\n",
    "La matemática pura centra el foco formal en la solución, su existencia y si es o no única. La aplicada controla la validez de los métodos para la solución numéricamente aproximada y el rigor de las justificaciones con que se los sustenta.\n",
    "\n",
    "La teoría de los sistemas dinámicos prioriza el análisis cualitativo de sistemas descritos por ecuaciones diferenciales mientras se han venido sumando numerosos métodos numéricos para determinar soluciones con un grado dado de precisión.\n",
    "\n",
    "En ingeniería, ciencias naturales y sociales hay muchos problemas de interés que, cuando se plantean, exigen la determinación de una función la cual debe verificar una ecuación que involucra derivadas de la función desconocida. Dichas ecuaciones se denominan ecuaciones diferenciales."
   ]
  },
  {
   "cell_type": "markdown",
   "metadata": {},
   "source": [
    "## Marco Teórico\n",
    "\n",
    "Se dice que una función f(t, y) satisface una **Condición Lipschitz** en la variable y en un conjunto D C R2 si existe una constante L > O con la propiedad de que $ |f_(t, y_1) - f_(t, y_2)| ≤ L  |y_1  - y_2|$, siempre que $(t, y_1), (t, y2)  ϵ  D $. A la constante L se le llama constante de Lipschitz para f.\n",
    "\n",
    "Ejemplo:\n",
    "\n",
    "Si $D = {(t, y) | 1 ≤ t ≤ 2, - 3 ≤ y ≤ 4}$ y $f_(t, y) = t | y |$, entonces para cada par de puntos $(t, y1)$ y $(t, y2)$ en D tenemos $|f_(t, y_1) - f_(t, y_2) | = |t|y_1| -t | y_2 | | = |t| ||y_1|-| y_2 || ≤ 2 | y_1 - y_2 | $· Por tanto, f satisface una condición de Lipschitz en D en la variable y con la constante 2 de Lipschitz. En este problema el valor más pequeño de la constante de Lipschitz que se puede obtener es L = 2, así que, por ej emplo, $|f (2, 1) - f (2, O) | = | 2 - 0 | = 2 | 1 - 0 |$. \n",
    "\n",
    ".\n",
    "\n",
    "Teorema 1:\n",
    "\n",
    "Supongamos que $f_(t, y)$ está definida en un conjunto convexo $D C R^2$ Si existe una constante $L > O$ con $|\\frac{dy}{dt}(t, y)| ≤ L $, para toda $(t, y) ϵ D$  (5.1)\n",
    "\n",
    "entonces f satisface una condición de Lipschitz en D en la variable y con la constante L de Lipschitz.\n",
    "\n",
    "\n",
    "..\n",
    "\n",
    "\n",
    "\n",
    "Se dice que el problema de valor inicial $\\frac{dy}{dt}= f_(t, y)$  ,  $a ≤ t ≤ b  $ , $  y(a) =α $, (5.2)\n",
    "\n",
    "es un **Problema Bien Planteado** si: \n",
    "\n",
    "1.  El problema tiene una solución única, $y_(t)$;\n",
    "\n",
    "\n",
    "2. Para cualquier $ e > O$, existe una constante positiva $k_(e)$ con la propiedad de que siempre que $|ε_0| < ε $ y $δ(t) $ es continua con $|δ_(t)| < ε$ en $[a, b]$, existe una solución única, $z_(t)$, al problema,\n",
    "\n",
    "$\\frac{dy}{di}= f_(t, z)$, $δ_(t)$ , $ a  ≤ t ≤ b$,  (5.3)\n",
    "\n",
    "con\n",
    "$|z_(t) -y_(t)| < k(e)e$ para toda a ≤ t ≤ b. \n",
    "\n",
    "Al problema especificado por la ecuación (5.3) se le llama problema perturbado asociado al problema original (5.2), y supone la posibilidad de que haya un error $δ(t)$ en la formulación de la ecuación diferencial y también que la condición inicial contenga un error $ε_0$.\n",
    "\n",
    "Los métodos numéricos siempre se ocuparán de resolver un problema perturbado, porque cualquier error de redondeo introducido en la representación altera el problema original. Y si este último no está bien planteado, existen pocas razones para suponer que la solución numérica de un problema de este tipo se aproxima con exactitud a la solución del problema original.\n",
    "\n",
    ".\n",
    "\n",
    "Teorema 2:\n",
    "\n",
    "Suponga que $D={(t,y)|a≤t≤b,−∞<y<∞} $. Si  f  es continua y satisface la condición de Lipschitz en la variable y en el conjunto D, entonces el problema de valor inicial\n",
    "$\\frac{dy}{dt}=f(t,y),a≤t≤b,y(a) =α$\n",
    "es bien planteado.\n",
    "\n",
    "Verificación:\n",
    "\n",
    "Sea $D = {(t,y)|a ≤ t ≤ b , −∞ < y < ∞}$, consideremos el problema de valor inicial \n",
    "\n",
    "$\\frac{dy}{dt} = f(t,y) , a ≤ t ≤b , y (a) = α$ (Ec 1)\n",
    "\n",
    "Y dado que existe una constante$ L>0 ∣\\frac{∂f}{∂y}(t,y)∣≤L$,para todo(t,y)∈D, el teorema 1 implica que f(t, y) =y - t2 + 1 satisface una condición de Lipschitz en D con la constante 1 de Lipschitz.\n",
    "\n",
    "Puesto que f es continua en D, el teorema 2 implica que el problema es bien planteado.\n",
    "\n",
    "Para verificar esto directamente, consideremos el problema perturbado $\\frac{dz}{dt}  = z - t^2 + 1 +  δ ,  0 ≤ t ≤ 2,  z(O) = 0.5 + ε0$, (Ec 2)\n",
    "\n",
    "donde δ y ε0 son constantes. Las soluciones de las ecuaciones (Ec 1) y (Ec 2) son $y(t) = (t + 1)^2 -0.5e^t$ y $z(t) = (t + 1)2 + (δ + ε0 - 0.5)e^t -δ$, respectivamente.\n",
    "\n",
    "Es fácil verificar que si, | δ  | < ε y |ε0| < ε, entonces $| y_(t) - z_(t)| = | (δ + εo)e^t -  δ | ≤ |(δ+ εo)| e^2 + | δ | ≤ (2e^2 + l)ε$,  para toda t. Así, el problema (Ec 2) está bien planteado, con $k(e) = 2e^2 + 1$ para todo ε> O "
   ]
  },
  {
   "cell_type": "markdown",
   "metadata": {},
   "source": [
    "## Práctica"
   ]
  },
  {
   "cell_type": "code",
   "execution_count": 4,
   "metadata": {},
   "outputs": [],
   "source": [
    "# 1 Método de Euler\n",
    "\n",
    "from math import*\n",
    "\n",
    "def  Euler(a, b, y0, f, N):\n",
    "    h = (b-a)/float(N)\n",
    "    t = a\n",
    "    w = y0\n",
    "    print (t,  \"-->\" , w)\n",
    "    for i in  range(1, N+1):\n",
    "        w = w+h*f(t, w)\n",
    "        t = a+i*h\n",
    "        print(t,  \"-->\" , w)\n"
   ]
  },
  {
   "cell_type": "code",
   "execution_count": 3,
   "metadata": {},
   "outputs": [],
   "source": [
    "# 2 Método de Runge Kutta de cuarto orden\n",
    "\n",
    "from math import*\n",
    "\n",
    "def  RK4(a, b, y0, f, N):\n",
    "    h = (b-a)/float(N)\n",
    "    t = a\n",
    "    w = y0\n",
    "    print(t,  \"-->\" , w)\n",
    "\n",
    "    for i in  range(1, N+1):\n",
    "        k1 = h*f(t, w)\n",
    "        k2 = h*f(t+h/2.0, w+k1/2.0)\n",
    "        k3 = h*f(t+h/2.0, w+k2/2.0)\n",
    "        k4 = h*f(t+h, w+k3)\n",
    "        w = w+(k1+2.0*k2+2.0*k3+k4)/6.0\n",
    "        t = a+i*h\n",
    "        print(t,  \"-->\" , w)\n"
   ]
  },
  {
   "cell_type": "code",
   "execution_count": 6,
   "metadata": {},
   "outputs": [],
   "source": [
    "# 3 Método de Runge-Kutta para sistema de ecuaciones diferenciales\n",
    "import numpy as np\n",
    "import matplotlib.pyplot as plt\n",
    "\n",
    "\n",
    "def runge_kutta_sistema(f, g, e, x0, y0, z0, a, b, h):\n",
    "    t = np.arange(a, b + h, h)\n",
    "    n = len(t)\n",
    "    x = np.zeros(n)\n",
    "    y = np.zeros(n)\n",
    "    z = np.zeros(n)\n",
    "    x[0] = x0\n",
    "    y[0] = y0\n",
    "    z[0] = z0\n",
    "    for i in range(n - 1):\n",
    "        k1 = h * f(x[i], y[i], z[i], t[i])\n",
    "        l1 = h * g(x[i], y[i], z[i], t[i])\n",
    "        m1 = h * e(x[i], y[i], z[i], t[i])\n",
    "        \n",
    "        k2 = h * f(x[i] + k1 / 2, y[i] + l1 / 2, z[i] + m1 / 2, t[i] + h / 2)\n",
    "        l2 = h * g(x[i] + k1 / 2, y[i] + l1 / 2, z[i] + m1 / 2, t[i] + h / 2)\n",
    "        m2 = h * e(x[i] + k1 / 2, y[i] + l1 / 2, z[i] + m1 / 2, t[i] + h / 2)\n",
    "        \n",
    "        k3 = h * f(x[i] + k2 / 2, y[i] + l2 / 2, z[i] + m2 / 2, t[i] + h / 2)\n",
    "        l3 = h * g(x[i] + k2 / 2, y[i] + l2 / 2, z[i] + m2 / 2, t[i] + h / 2)\n",
    "        m3 = h * e(x[i] + k2 / 2, y[i] + l2 / 2, z[i] + m2 / 2, t[i] + h / 2)\n",
    "        \n",
    "        k4 = h * f(x[i] + k3, y[i] + l3, z[i] + m3, t[i] + h)\n",
    "        l4 = h * g(x[i] + k3, y[i] + l3, z[i] + m3, t[i] + h)\n",
    "        m4 = h * e(x[i] + k3, y[i] + l3, z[i] + m3, t[i] + h)\n",
    "        \n",
    "        x[i + 1] = x[i] + (1 / 6) * (k1 + 2 * k2 + 2 * k3 + 2 * k4)\n",
    "        y[i + 1] = y[i] + (1 / 6) * (l1 + 2 * l2 + 2 * l3 + 2 * l4)\n",
    "        z[i + 1] = z[i] + (1 / 6) * (m1 + 2 * m2 + 2 * m3 + 2 * m4)\n",
    "    plt.plot(t, x, t, y, t, z)\n",
    "    plt.show()"
   ]
  },
  {
   "cell_type": "code",
   "execution_count": 7,
   "metadata": {},
   "outputs": [],
   "source": [
    "# 4 Ecuación Diferencial\n",
    "def Funcion1(t, y):\n",
    "    # y′=(t+2t^3)y^3−ty\n",
    "    return  (t + 2*t**3) *y**3 - t*y\n",
    "\n",
    "a=0 \n",
    "b=2 \n",
    "y0= 1/3\n",
    "h=0.05\n",
    "N= int((b - a)/h)"
   ]
  },
  {
   "cell_type": "code",
   "execution_count": 8,
   "metadata": {},
   "outputs": [
    {
     "name": "stdout",
     "output_type": "stream",
     "text": [
      "0 --> 0.3333333333333333\n",
      "0.05 --> 0.3333333333333333\n",
      "0.1 --> 0.3325930555555555\n",
      "0.15000000000000002 --> 0.3311177234872325\n",
      "0.2 --> 0.32891886844660567\n",
      "0.25 --> 0.32601399722445956\n",
      "0.30000000000000004 --> 0.32242609405616673\n",
      "0.35000000000000003 --> 0.31818298825270475\n",
      "0.4 --> 0.31331662620475165\n",
      "0.45 --> 0.30786229035607554\n",
      "0.5 --> 0.30185780801503864\n",
      "0.55 --> 0.2953427898477284\n",
      "0.6000000000000001 --> 0.28835793220541855\n",
      "0.65 --> 0.28094440990182246\n",
      "0.7000000000000001 --> 0.27314337753753254\n",
      "0.75 --> 0.2649955887633738\n",
      "0.8 --> 0.25654113462160333\n",
      "0.8500000000000001 --> 0.24781929475572612\n",
      "0.9 --> 0.23886848910343725\n",
      "0.9500000000000001 --> 0.22972631279924652\n",
      "1.0 --> 0.220429633428601\n",
      "1.05 --> 0.21101472745904487\n",
      "1.1 --> 0.20151743158511073\n",
      "1.1500000000000001 --> 0.19197328484217666\n",
      "1.2000000000000002 --> 0.18241763867845703\n",
      "1.25 --> 0.1728857147460154\n",
      "1.3 --> 0.16341259398653982\n",
      "1.35 --> 0.15403312559121485\n",
      "1.4000000000000001 --> 0.14478175044798255\n",
      "1.4500000000000002 --> 0.13569224045754782\n",
      "1.5 --> 0.1267973621561296\n",
      "1.55 --> 0.11812847985400177\n",
      "1.6 --> 0.1097151193375259\n",
      "1.6500000000000001 --> 0.10158451745570089\n",
      "1.7000000000000002 --> 0.09376118510348101\n",
      "1.75 --> 0.0862665109195816\n",
      "1.8 --> 0.07911843041363972\n",
      "1.85 --> 0.07233118050537601\n",
      "1.9000000000000001 --> 0.06591515314210676\n",
      "1.9500000000000002 --> 0.05987685448730716\n",
      "2.0 --> 0.05421896893388954\n"
     ]
    }
   ],
   "source": [
    "# Método de Euler aplicado a la ecuación diferencial del problema 4\n",
    "Euler(a, b, y0, Funcion1, N)"
   ]
  },
  {
   "cell_type": "code",
   "execution_count": 9,
   "metadata": {},
   "outputs": [
    {
     "name": "stdout",
     "output_type": "stream",
     "text": [
      "0 --> 0.3333333333333333\n",
      "0.05 --> 0.3329632327401882\n",
      "0.1 --> 0.3318561552823884\n",
      "0.15000000000000002 --> 0.33002167656475073\n",
      "0.2 --> 0.3274754378981798\n",
      "0.25 --> 0.32423869135614036\n",
      "0.30000000000000004 --> 0.3203377047830788\n",
      "0.35000000000000003 --> 0.31580306371138706\n",
      "0.4 --> 0.3106689113923526\n",
      "0.45 --> 0.30497216888108847\n",
      "0.5 --> 0.2987517746139007\n",
      "0.55 --> 0.29204797776779007\n",
      "0.6000000000000001 --> 0.2849017126684939\n",
      "0.65 --> 0.27735407344039464\n",
      "0.7000000000000001 --> 0.2694458997336579\n",
      "0.75 --> 0.26121747634976633\n",
      "0.8 --> 0.25270834237282824\n",
      "0.8500000000000001 --> 0.24395719928627396\n",
      "0.9 --> 0.23500190265532184\n",
      "0.9500000000000001 --> 0.22587951832689543\n",
      "1.0 --> 0.21662642172716465\n",
      "1.05 --> 0.20727841769175398\n",
      "1.1 --> 0.19787085832034157\n",
      "1.1500000000000001 --> 0.18843873759359936\n",
      "1.2000000000000002 --> 0.17901674391468878\n",
      "1.25 --> 0.16963925530321328\n",
      "1.3 --> 0.1603402665812591\n",
      "1.35 --> 0.15115324336221722\n",
      "1.4000000000000001 --> 0.14211090368408602\n",
      "1.4500000000000002 --> 0.13324493430697426\n",
      "1.5 --> 0.12458565451864001\n",
      "1.55 --> 0.11616164522545713\n",
      "1.6 --> 0.1079993646490213\n",
      "1.6500000000000001 --> 0.10012277371600042\n",
      "1.7000000000000002 --> 0.09255299402037051\n",
      "1.75 --> 0.08530801907875626\n",
      "1.8 --> 0.07840249574754403\n",
      "1.85 --> 0.07184758757513998\n",
      "1.9000000000000001 --> 0.06565092609905328\n",
      "1.9500000000000002 --> 0.059816650276817124\n",
      "2.0 --> 0.05434552892244\n"
     ]
    }
   ],
   "source": [
    "# Método de Runge-Kutta aplicado a la ecuación diferencial del problema 4\n",
    "RK4(a, b, y0, Funcion1, N)"
   ]
  },
  {
   "cell_type": "code",
   "execution_count": 10,
   "metadata": {},
   "outputs": [
    {
     "data": {
      "image/png": "[encoded data removed]",
      "text/plain": [
       "<Figure size 432x288 with 1 Axes>"
      ]
     },
     "metadata": {
      "needs_background": "light"
     },
     "output_type": "display_data"
    }
   ],
   "source": [
    "# 5 Solución del sistema de ecuaciones diferenciales\n",
    "a = 0\n",
    "b = 2\n",
    "x0 = 1 # u1(0)\n",
    "y0 = 0 # u2(0)\n",
    "z0 = 1 # u3(0)\n",
    "h = 0.05\n",
    "# f = u′1 = u2,\n",
    "# g = u′2 = −u1 −2e^t +1\n",
    "# e = u′3 = −u1 −e^t +1\n",
    "f = lambda x,y,z,t: y ;\n",
    "g = lambda x,y,z,t: -x -2*np.exp(t) + 1 ;\n",
    "e = lambda x,y,z,t: -x - np.exp(t) + 1 ;\n",
    "runge_kutta_sistema(f, g, e, x0, y0, z0, a, b, h)"
   ]
  },
  {
   "cell_type": "markdown",
   "metadata": {},
   "source": [
    "* 6. Solución Ecuación diferencial de orden 3.\n",
    "\n",
    "Se transforma la ecuación diferencial de orden 3...: \n",
    "\n",
    "t^3y′′′−t^2y′′+3ty′−4y = 5t^3 ln(t) +9t^3\n",
    "\n",
    "\n",
    "\n",
    "y = w1\n",
    "\n",
    "y′ = w′1 = w2\n",
    "\n",
    "y′′= w′′1 = w′2 = w3\n",
    "\n",
    "y′′′= w′′′1 = w′′2 = w′3 = w4\n",
    "\n",
    "...en un sistema de 3 ecuaciones diferenciales:\n",
    "\n",
    "\n",
    "w′1= w2\n",
    "\n",
    "w′2 = w3\n",
    "\n",
    "w′3 = (2/t)*w3 - (3/t^2)w2 + (4/t^3)w1 + 5 log(t) + 9*t^3"
   ]
  },
  {
   "cell_type": "code",
   "execution_count": 12,
   "metadata": {},
   "outputs": [
    {
     "data": {
      "image/png": "[encoded data removed]",
      "text/plain": [
       "<Figure size 432x288 with 1 Axes>"
      ]
     },
     "metadata": {
      "needs_background": "light"
     },
     "output_type": "display_data"
    }
   ],
   "source": [
    "# 6 Ecuación Diferencial de Orden Superior\n",
    "\n",
    "a = 1\n",
    "b = 2\n",
    "x0 = 0 # y(1)\n",
    "y0 = 1 # y′(1)\n",
    "z0 = 3 # y′′(1)\n",
    "h = 0.01\n",
    "# f = w′1 = w2\n",
    "# g = w′2 = w3\n",
    "# e = w′3 = (2/t)*w3 - (3/t**2)w2 + (4/t**3)w1 + 5 np.log(t) + 9\n",
    "f = lambda x,y,z,t: y ;\n",
    "g = lambda x,y,z,t: z ;\n",
    "e = lambda x,y,z,t: (2*t**-1)*z - (3*t**-2)*y + (4*t**-3)*x + 5 * np.log(t) + 9*t**3 ;\n",
    "runge_kutta_sistema(f, g, e, x0, y0, z0, a, b, h)"
   ]
  },
  {
   "cell_type": "markdown",
   "metadata": {},
   "source": [
    "## Conclusiones\n",
    "\n",
    "Los métodos denominados runge kutta, (de los cuales el de euler es un caso) resultan mas precisos a medida que aumenta el orden de estos, y su importancia radica en la aplicabilidad de estos para resolver problemas de ingeniería tales como:\n",
    "\n",
    "* Las leyes del movimiento de Newton. \n",
    "* Aplicaciones a los circuitos eléctricos: La ley de Kirchhoff.\n",
    "* Aplicaciones a flujo de calor en estado estacionario. \n",
    "* Aplicaciones a problemas combinados de crecimiento y decrecimiento. \n",
    "* El cable colgante. \n",
    "* La deflexión de vigas. \n",
    "* Concentración en Tanques Agitados .\n",
    "* Vaciado de un Tanque.\n",
    "* Modificaciones de la Ecuación Logística.\n",
    "* Sistema Masa-Resorte: \n",
    "Movimiento Armónico Libre No Amortiguado y Amortiguado,\n",
    "Movimiento Forzado,\n",
    "Resonancia Pura."
   ]
  },
  {
   "cell_type": "markdown",
   "metadata": {},
   "source": [
    "## Referencias\n",
    "\n",
    "ANÁLISIS NUMÉRICO. Autores: Richard L. Burden, Douglas J. Faires, Annette M. Burden\n",
    "\n",
    "Matemáticas para Ingeniería. Autores: Diego Ovalle, Miguel Bernal, Jaime Posada.\n",
    "\n",
    "[Ecuación diferencial ordinaria. Wikipedia](https://es.wikipedia.org/wiki/Ecuaci%C3%B3n_diferencial_ordinaria)\n",
    "\n",
    "[MÉTODO DE RUNGE-KUTTA PARA SISTEMAS DE ECUACIONES DIFERENCIALES. Youtube](https://www.youtube.com/watch?v=_9a2Fgf1VMk)\n",
    "\n",
    "[Transformación de una ecuación diferencial de orden n a un sistema de n ecuaciones 2. Youtube.](https://www.youtube.com/watch?v=P5tQC0z2Ygg)\n",
    "\n",
    "Ecuaciones Diferenciales Ordinarias y sus Aplicaciones. Autores: David Macias F. José Aarón Melo."
   ]
  },
  {
   "cell_type": "code",
   "execution_count": null,
   "metadata": {},
   "outputs": [],
   "source": []
  }
 ],
 "metadata": {
  "kernelspec": {
   "display_name": "Python 3",
   "language": "python",
   "name": "python3"
  },
  "language_info": {
   "codemirror_mode": {
    "name": "ipython",
    "version": 3
   },
   "file_extension": ".py",
   "mimetype": "text/x-python",
   "name": "python",
   "nbconvert_exporter": "python",
   "pygments_lexer": "ipython3",
   "version": "3.8.3"
  }
 },
 "nbformat": 4,
 "nbformat_minor": 4
}
