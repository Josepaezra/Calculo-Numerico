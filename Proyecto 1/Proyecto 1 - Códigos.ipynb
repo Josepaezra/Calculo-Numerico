{
 "cells": [
  {
   "cell_type": "markdown",
   "metadata": {},
   "source": [
    "#### Bisección"
   ]
  },
  {
   "cell_type": "code",
   "execution_count": 5,
   "metadata": {},
   "outputs": [
    {
     "name": "stdout",
     "output_type": "stream",
     "text": [
      " \n",
      "-- Método de Bisección : \n",
      "\n",
      "k    |   Xk      |   f(xk)   = \n",
      " 001   |    1.00000000000000   |    0.40000000000000 \n",
      " 002   |    1.25000000000000   |    0.33437500000000 \n",
      " 003   |    1.12500000000000   |    0.02695312500000 \n",
      " 004   |    1.18750000000000   |    0.15590820312500 \n",
      " 005   |    1.15625000000000   |    0.06493530273438 \n",
      " 006   |    1.14062500000000   |    0.01909408569336 \n",
      " 007   |    1.13281250000000   |    0.00390520095825 \n",
      " 008   |    1.13671875000000   |    0.00760070085526 \n",
      " 009   |    1.13476562500000   |    0.00184929221869 \n",
      " 010   |    1.13378906250000   |    0.00102757159621 \n",
      " 011   |    1.13427734375000   |    0.00041095635388 \n",
      " 012   |    1.13403320312500   |    0.00030828365416 \n",
      " 013   |    1.13415527343750   |    0.00005134234707 \n",
      " 014   |    1.13409423828125   |    0.00012846915492 \n",
      " 015   |    1.13412475585938   |    0.00003856302919 \n",
      " 016   |    1.13414001464844   |    0.00000638975264 \n",
      " 017   |    1.13413238525391   |    0.00001608661485 \n",
      " 018   |    1.13413619995117   |    0.00000484842525 \n",
      " 019   |    1.13413810729980   |    0.00000077066516 \n",
      " 020   |    1.13413715362549   |    0.00000203887968 \n",
      " 021   |    1.13413763046265   |    0.00000063410717 \n",
      " 022   |    1.13413786888123   |    0.00000006827902 \n",
      " 023   |    1.13413774967194   |    0.00000028291407 \n",
      " 024   |    1.13413780927658   |    0.00000010731753 \n",
      " 025   |    1.13413783907890   |    0.00000001951926 \n",
      " 026   |    1.13413785398006   |    0.00000002437988 \n",
      " 027   |    1.13413784652948   |    0.00000000243031 \n"
     ]
    },
    {
     "data": {
      "text/plain": [
       "1.1341378465294838"
      ]
     },
     "execution_count": 5,
     "metadata": {},
     "output_type": "execute_result"
    }
   ],
   "source": [
    "def bisec(f, a, b, n):# Método  de bisección \n",
    "    i = 1\n",
    "    print  (\"k    |   Xk    \"   ,  \" |   f(xk)   = \"   )\n",
    "    while  i  <=  n:\n",
    "        p = a+(b-a)/2.0\n",
    "        fun = abs(f(p))\n",
    "        print  (\" %03d \" % i,  \" |    %.14f \" % p,  \" |    %.14f \" % fun)\n",
    "        if  abs(f(p)) <= 1e-8 :\n",
    "            return p\n",
    "        i += 1\n",
    "        if  f(a)*f(p) > 0:\n",
    "            a = p\n",
    "        else:\n",
    "            b = p\n",
    "    print  (\"Iteraciones agotadas\") \n",
    "    return\n",
    "\n",
    "def  pol(x):  \n",
    "    r=1\n",
    "    return  x**3 - 3*r*x**2 + (r**3)*12/5 \n",
    "a = 0.5\n",
    "b = 1.5\n",
    "# pol(x),a= 1.0,b= 2.0,Tol= 10e-8,N0  = 100\n",
    "print (\" \\n\" +r\"-- Método de Bisección :\" +\" \\n\") \n",
    "bisec(pol, a, b, 100)"
   ]
  },
  {
   "cell_type": "markdown",
   "metadata": {},
   "source": [
    "#### Regula Falsi"
   ]
  },
  {
   "cell_type": "code",
   "execution_count": 70,
   "metadata": {},
   "outputs": [
    {
     "name": "stdout",
     "output_type": "stream",
     "text": [
      " \n",
      "-- Método Regula falsi : \n",
      "\n",
      "k    |   Xk      |   f(xk)   = \n",
      " 001   |    1.14545454545455   |    0.03328625093914 \n",
      " 002   |    1.13357326174813   |    0.00166340434816 \n",
      " 003   |    1.13413874311888   |    0.00000264380128 \n",
      " 004   |    1.13413784577364   |    0.00000000020359 \n"
     ]
    },
    {
     "data": {
      "text/plain": [
       "1.1341378457736424"
      ]
     },
     "execution_count": 70,
     "metadata": {},
     "output_type": "execute_result"
    }
   ],
   "source": [
    "from math import*\n",
    "\n",
    "def  regula(f, p0, p1, n):\n",
    "\n",
    "# Método  de Regula  falsi\n",
    "\n",
    "    i = 1\n",
    "    print  (\"k    |   Xk    \"   ,  \" |   f(xk)   = \"   )\n",
    "    while  i  <=  n:\n",
    "        q0 = f(p0)\n",
    "        q1 = f(p1)\n",
    "        p = p1-(q1*(p1-p0))/(q1-q0)\n",
    "        fun = abs(f(p))\n",
    "        print  (\" %03d \" % i,  \" |    %.14f \" % p,  \" |    %.14f \" % fun)\n",
    "        if  abs(f(p)) <= 1e-8  :\n",
    "            return p\n",
    "        i += 1\n",
    "        q = f(p)\n",
    "        if  q*q1  <  0:\n",
    "                p0 = p1\n",
    "                q0 = q1\n",
    "        p1 = p\n",
    "        q1 = q \n",
    "    print  (\"Iteraciones agotadas: Error!\") \n",
    "    return\n",
    "a = 0.5\n",
    "b = 1.5\n",
    "# pol(x),a = 1.0,b = 2.0,Tol = 10−8,N 0 = 100\n",
    "print(\" \\n\" +r\"-- Método Regula falsi :\" +\" \\n\" )\n",
    "regula(pol, a, b, 100)\n"
   ]
  },
  {
   "cell_type": "markdown",
   "metadata": {},
   "source": [
    "#### Secante"
   ]
  },
  {
   "cell_type": "code",
   "execution_count": 71,
   "metadata": {},
   "outputs": [
    {
     "name": "stdout",
     "output_type": "stream",
     "text": [
      " \n",
      "-- Método de la Secante : \n",
      "\n",
      "k    |   Xk      |   f(xk)   = \n",
      " 001   |    1.14545454545455   |    0.03328625093914 \n",
      " 002   |    1.13292261738075   |    0.00358068078306 \n",
      " 003   |    1.13413977410990   |    0.00000568112141 \n",
      " 004   |    1.13413784602362   |    0.00000000094004 \n"
     ]
    },
    {
     "data": {
      "text/plain": [
       "1.134137846023624"
      ]
     },
     "execution_count": 71,
     "metadata": {},
     "output_type": "execute_result"
    }
   ],
   "source": [
    "def  secante(f, p0, p1, n):\n",
    "# Método  de la  secante\n",
    "    i = 1\n",
    "    print  (\"k    |   Xk    \"   ,  \" |   f(xk)   = \"   )\n",
    "    while  i  <=  n:\n",
    "        p = p1-(f(p1)*(p1-p0))/(f(p1)-f(p0))\n",
    "        fun = abs(f(p))\n",
    "        print  (\" %03d \" % i,  \" |    %.14f \" % p,  \" |    %.14f \" % fun)\n",
    "        if  abs(f(p)) <= 1e-8  :\n",
    "            return p\n",
    "        p0 = p1\n",
    "        p1 = p\n",
    "        i += 1\n",
    "    print  (\"Iteraciones agotadas: Error!\") \n",
    "    return\n",
    "\n",
    "print (\" \\n\" +r\"-- Método de la Secante :\" +\" \\n\") \n",
    "secante(pol, 0.5, 1.5,  100)"
   ]
  },
  {
   "cell_type": "markdown",
   "metadata": {},
   "source": [
    "#### Newton"
   ]
  },
  {
   "cell_type": "code",
   "execution_count": 75,
   "metadata": {},
   "outputs": [
    {
     "name": "stdout",
     "output_type": "stream",
     "text": [
      " \n",
      " Método de Newton : \n",
      "\n",
      "k    |   Xk      |   f(xk)   = \n",
      " 001   |    1.14444444444444   |    0.03031961591221 \n",
      " 002   |    1.13412254771478   |    0.00004506829501 \n",
      " 003   |    1.13413784567257   |    0.00000000009417 \n"
     ]
    },
    {
     "data": {
      "text/plain": [
       "1.134137845672572"
      ]
     },
     "execution_count": 75,
     "metadata": {},
     "output_type": "execute_result"
    }
   ],
   "source": [
    "def  newton(f, fprima, p0, n):\n",
    "# Método  de Newton dado una función y su derivada\n",
    "    i = 1\n",
    "    print  (\"k    |   Xk    \"   ,  \" |   f(xk)   = \"   )\n",
    "    while  i  <=  n:\n",
    "        p = p0-f(p0)/fprima(p0)\n",
    "        fun = abs(f(p))\n",
    "        print  (\" %03d \" % i,  \" |    %.14f \" % p,  \" |    %.14f \" % fun)\n",
    "        if  abs(f(p)) <= 1e-8  :\n",
    "            return p\n",
    "        p0 = p\n",
    "        i += 1\n",
    "    print  (\"Iteraciones agotadas: Error!\") \n",
    "    return\n",
    "\n",
    "\n",
    "def  polprima(x):\n",
    "    #  retorna   polprima(x) =ddxpol(x)  \n",
    "    return  3*x**2 - 6*x\n",
    "\n",
    "\n",
    "print(\" \\n\" +r\" Método de Newton :\" +\" \\n\")\n",
    "newton(pol, polprima, 0.8, 100)"
   ]
  },
  {
   "cell_type": "markdown",
   "metadata": {},
   "source": [
    "#### Punto Fíjo"
   ]
  },
  {
   "cell_type": "code",
   "execution_count": 11,
   "metadata": {},
   "outputs": [
    {
     "name": "stdout",
     "output_type": "stream",
     "text": [
      " \n",
      "-- Método del Punto fijo: \n",
      "\n",
      "k    |   Xk      |   f(xk)   = \n",
      "-- | -- | --\n",
      " 001   |    1.38744369255116   |    0.97500000000000 \n",
      " 002   |    1.30010629157273   |    0.70417089183902 \n",
      " 003   |    1.23794708319012   |    0.47329016582424 \n",
      " 004   |    1.19682496276694   |    0.30036896783050 \n",
      " 005   |    1.17108498101080   |    0.18284987625903 \n",
      " 006   |    1.15557674268586   |    0.10824727353781 \n",
      " 007   |    1.14645950578970   |    0.06296462946272 \n",
      " 008   |    1.14117940321006   |    0.03623690431407 \n",
      " 009   |    1.13814864525221   |    0.02072427486428 \n",
      " 010   |    1.13641800611439   |    0.01180936220530 \n",
      " 011   |    1.13543271592899   |    0.00671529665739 \n",
      " 012   |    1.13487272694292   |    0.00381403812908 \n",
      " 013   |    1.13455476746780   |    0.00216475792485 \n",
      " 014   |    1.13437433134678   |    0.00122819029638 \n",
      " 015   |    1.13427196939686   |    0.00069666917706 \n",
      " 016   |    1.13421390952650   |    0.00039512398811 \n",
      " 017   |    1.13418098120674   |    0.00022408329691 \n",
      " 018   |    1.13416230717386   |    0.00012707735146 \n",
      " 019   |    1.13415171725795   |    0.00007206376432 \n",
      " 020   |    1.13414571190032   |    0.00004086581182 \n",
      " 021   |    1.13414230640187   |    0.00002317395397 \n",
      " 022   |    1.13414037523450   |    0.00001314130053 \n",
      " 023   |    1.13413928012466   |    0.00000745204610 \n",
      " 024   |    1.13413865912035   |    0.00000422583114 \n",
      " 025   |    1.13413830696760   |    0.00000239633989 \n",
      " 026   |    1.13413810727256   |    0.00000135889064 \n",
      " 027   |    1.13413799403166   |    0.00000077058490 \n",
      " 028   |    1.13413792981625   |    0.00000043697483 \n",
      " 029   |    1.13413789340168   |    0.00000024779487 \n",
      " 030   |    1.13413787275210   |    0.00000014051678 \n",
      " 031   |    1.13413786104237   |    0.00000007968270 \n",
      " 032   |    1.13413785440215   |    0.00000004518558 \n",
      " 033   |    1.13413785063668   |    0.00000002562334 \n",
      " 034   |    1.13413784850140   |    0.00000001453020 \n"
     ]
    },
    {
     "data": {
      "text/plain": [
       "1.134137848501402"
      ]
     },
     "execution_count": 11,
     "metadata": {},
     "output_type": "execute_result"
    }
   ],
   "source": [
    "import math\n",
    "def  puntofijo(f, p0, tol, n):\n",
    "# Método  del  punto fijo\n",
    "    i = 1\n",
    "    print  (\"k    |   Xk    \"   ,  \" |   f(xk)   = \"   )\n",
    "    print (\"-- | -- | --\")\n",
    "    while  i  <=  n:\n",
    "        p = f(p0)\n",
    "        fun = abs(Y(p0))\n",
    "        print  (\" %03d \" % i,  \" |    %.14f \" % p,  \" |    %.14f \" % fun)\n",
    "        if  abs(Y(p)) <= 1e-8 :\n",
    "            return p\n",
    "        p0 = p\n",
    "        i += 1\n",
    "    print  (\"Iteraciones agotadas: Error!\") \n",
    "    return\n",
    "\n",
    "def  pol(x):\n",
    "    return math.sqrt((x**3  + 12/5)/3)\n",
    "\n",
    "def Y(x):\n",
    "    r = 1\n",
    "    return  x**3 - 3*r*x**2 + (r**3)*12/5 \n",
    "print (\" \\n\" +r\"-- Método del Punto fijo:\" +\" \\n\")\n",
    "puntofijo(pol, 1.5, 1e-8, 100)\n"
   ]
  },
  {
   "cell_type": "code",
   "execution_count": null,
   "metadata": {},
   "outputs": [],
   "source": []
  }
 ],
 "metadata": {
  "kernelspec": {
   "display_name": "Python 3",
   "language": "python",
   "name": "python3"
  },
  "language_info": {
   "codemirror_mode": {
    "name": "ipython",
    "version": 3
   },
   "file_extension": ".py",
   "mimetype": "text/x-python",
   "name": "python",
   "nbconvert_exporter": "python",
   "pygments_lexer": "ipython3",
   "version": "3.8.3"
  }
 },
 "nbformat": 4,
 "nbformat_minor": 4
}
