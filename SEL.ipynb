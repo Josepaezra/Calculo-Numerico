{
 "cells": [
  {
   "cell_type": "markdown",
   "metadata": {},
   "source": [
    "## Universidad Central de Venezuela\n",
    "## Facultad de Ingeniería\n",
    "## Escuela de Ingeniería Eléctrica"
   ]
  },
  {
   "cell_type": "markdown",
   "metadata": {},
   "source": [
    "# <div style=\"text-align: center\"> Sistema de ecuaciones lineales </div>"
   ]
  },
  {
   "cell_type": "markdown",
   "metadata": {},
   "source": [
    "## <div style=\"text-align: right\"> Periodo 2020-3 </div>\n",
    "#### <div style=\"text-align: right\"> 19/01/2021  </div>\n",
    "### <div style=\"text-align: right\"> Prof. Gilberto R. Noguera </div>\n",
    "#### <div style=\"text-align: right\"> Alumno: José Páez C.I.: 24 311 351 </div>"
   ]
  },
  {
   "cell_type": "markdown",
   "metadata": {},
   "source": [
    "## Introducción\n",
    "\n",
    "Los sistemas de ecuaciones lineales nos sirven para resolver diversos problemas, desde los que se presentan en nuestra vida diaria hasta problemas que se presentan en ingeniería, física, matemáticas, economía y otras ciencias. El interés en encontrar la solución a estos sistemas es muy antiguo.\n",
    "\n",
    "Los sistemas de ecuaciones lineales fueron ya resueltos por los babilonios: utilizaron procedimientos de eliminación de incógnitas en los cuales las llamaban con palabras tales como 'longitud', 'anchura', 'área' o 'volumen', aunque no tuvieran relación con problemas de medida.\n",
    "\n",
    "También los griegos resolvieron algunos sistemas de ecuaciones y lo hacían mediante métodos geométricos. Thymaridas encontró una fórmula para resolver un determinado sistema de n ecuaciones con n incógnitas. Diophante resuelve problemas de sistemas de ecuaciones, los cuales transforma a una ecuación lineal, él sólo aceptaba soluciones positivas debido a que sólo buscaba resolver problemas y no ecuaciones. Un detalle importante a esta forma de solucionar un sistema es que carece de un método general y en cada problema se deben utilizar métodos excesivamente ingeniosos.\n",
    "\n",
    "Los sistemas de ecuaciones también se pueden encontrar en documentos indios. No obstante, ellos tampoco lograron obtener métodos generales de resolución, sino que resolvían problemas con tipos especiales de ecuaciones. En el texto chino \"El arte matemático\", se muestra la solución de problemas de sistemas de ecuaciones usando matrices. Finalmente hasta el siglo XVIII Gauss logra tratar la solución de los sistemas de ecuaciones como un método, capaz de hacer posible la discusión y solución de forma general pudiendo así agrupar los diferentes problemas y su forma de solucionarlos."
   ]
  },
  {
   "cell_type": "markdown",
   "metadata": {},
   "source": [
    "## Marco Teórico\n",
    "###Definición y Caracterización de los SEL.\n",
    "En matemáticas y álgebra lineal, un sistema de ecuaciones lineales, también conocido como sistema lineal de ecuaciones o simplemente sistema lineal, es un conjunto de ecuaciones lineales (es decir, un sistema de ecuaciones en donde cada ecuación es de primer grado), definidas sobre un cuerpo o un anillo conmutativo. \n",
    "En general, un sistema con m ecuaciones lineales y n incógnitas puede ser escrito en forma normal como: \n",
    "\\begin{matrix}\n",
    "      a_{11}x_1 & + a_{12}x_2 & + \\dots & + a_{1n}x_n & = b_1 \\\\\n",
    "      a_{21}x_1 & + a_{22}x_2 & + \\dots & + a_{2n}x_n & = b_2 \\\\\n",
    "      \\dots     & \\dots       & \\dots   & \\dots       & \\dots \\\\\n",
    "      a_{m1}x_1 & + a_{m2}x_2 & + \\dots & + a_{mn}x_n & = b_m\n",
    "   \\end{matrix}\n",
    "Donde x_1, hasta x_n son las incógnitas y los números a_{ij} E {K} son los coeficientes del sistema sobre el cuerpo \n",
    "K {=R,C,...}.\n",
    "\n",
    "#### Tipos de sistemas lineales\n",
    "Los sistemas de ecuaciones se pueden clasificar según el número de soluciones que pueden presentar. De acuerdo con ese caso se pueden presentar los siguientes casos:\n",
    "\n",
    "    Sistema compatible si tiene solución, en este caso además puede distinguirse entre:\n",
    "   \n",
    "      Sistema compatible determinado cuando tiene una única solución.\n",
    "   \n",
    "      Sistema compatible indeterminado cuando admite un conjunto infinito de soluciones.\n",
    "   \n",
    "    Sistema incompatible si no tiene solución.\n",
    "\n",
    "Quedando así la clasificación:\n",
    "\n",
    "Los sistemas incompatibles geométricamente se caracterizan por (hiper)planos o rectas que se cruzan sin cortarse. Los sistemas compatibles determinados se caracterizan por un conjunto de (hiper)planos o rectas que se cortan en un único punto. Los sistemas compatibles indeterminados se caracterizan por (hiper)planos que se cortan a lo largo de una recta [o más generalmente un hiperplano de dimensión menor]. Desde un punto de vista algebraico los sistemas compatibles determinados se caracterizan porque el determinante de la matriz es diferente de cero\n",
    "\n",
    "#### Resolución de sistemas de ecuaciones lineales\n",
    "Resolver distintos sistemas de ecuaciones es posible gracias a distintos algoritmos. A continuación se presentan algunos:\n",
    "\n",
    "   a)  Métodos directos: \n",
    "\n",
    "  Se denominan métodos directos de resolución de Sistemas de Ecuaciones Lineales, a aquellos que por medio de operaciones elementales entre filas, nos permiten transformar al sistema original en otro de aspecto triangular (Método de Gauss), o diagonal (Método de Gauss - Jordan), de forma tal de poder despejar facilmente los valores de las incógnitas.\n",
    "\n",
    " Triangularizacion con máximo pivote por columna: Se busca convertir la matriz en triangular superior Ó inferior (Una sola es suficiente), haciendo uso de la técnica del pivoteo, la cual permite agregar ceros (0) por arriba o debajo de la diagonal principal \n",
    "\n",
    " Factorizaciones PALU: Consiste en transformar la matrices original A en el producto de dos matrices triangulares, una superior y otra inferior, para lo cual ademas podemos permutar la matriz A, multiplicandola por P. \n",
    "\n",
    " Factorización de Cholesky: Cualquier matriz cuadrada A con pivotes no nulos puede ser escrita como el producto de una matriz triangular inferior L y una matriz triangular superior U; esto recibe el nombre de factorización LU (Método PALU sin la permutación). Sin embargo, si A es simétrica y definida positiva, se pueden escoger los factores tales que U es la transpuesta de L.\n",
    "\n",
    "   b)  Metodos iterativos: \n",
    "   \n",
    "  Son los procesos de aproximaciones sucesivas para resolver sistemas de ecuaciones lineales compatibles determinados. Requieren de la verificación  de  un  criterio  de  convergencia  comúnmente  conocido  como  diagonal  pesada. Se basan en la división de la matriz A, de la forma A=M−N, con M y N matrices adecuadas y M no singular (M se llama precondicionador).\n",
    "\n",
    " Jacobi:El método de Jacobi consiste en usar fórmulas como iteración de punto fijo. La base del método consiste en construir una sucesión convergente definida iterativamente. El límite de esta sucesión es precisamente la solución del sistema. A efectos prácticos si el algoritmo se detiene después de un número finito de pasos se llega a una aproximación al valor de x de la solución del sistema. \n",
    "\n",
    " Gauss-Seidel:Aunque este método puede aplicarse a cualquier sistema de ecuaciones lineales que produzca una matriz (cuadrada, naturalmente pues para que exista solución única, el sistema debe tener tantas ecuaciones como incógnitas) de coeficientes con los elementos de su diagonal no-nulos, la convergencia del método solo se garantiza si la matriz es diagonalmente dominante o si es simétrica y, a la vez, definida positiva. \n",
    "\n",
    " SOR: Este método se basan en una técnica que intenta mejorar la convergencia del método de Gauss Seidel mediante el refinamiento de la aproximación actual. La relación representa una ligera modificacion del metodo de gauss-seidel y esta permite mejorar la convergencia en algunos casos. Despues de que se calcula cada nuevo valor de x, ese valor se modifica mediante un promedio ponderado de los resultados de las iteraciones anterior y actual.\n"
   ]
  },
  {
   "cell_type": "markdown",
   "metadata": {},
   "source": [
    "## Práctica\n",
    "1)Se procede a construir un sistema generando una matriz aleatoria de orden 20"
   ]
  },
  {
   "cell_type": "code",
   "execution_count": 1,
   "metadata": {},
   "outputs": [
    {
     "name": "stdout",
     "output_type": "stream",
     "text": [
      "[[1.05585339 1.00920058 5.48804148 1.332864   0.8669239  1.12135396\n",
      "  5.67479275 6.56794875 9.6976494  1.25813502 7.5758961  8.68090519\n",
      "  3.34062537 4.51940064 6.19479724 9.62658657 3.73797638 3.07836782\n",
      "  5.79156122 7.02694476]\n",
      " [8.820074   5.28074876 4.51784531 9.0921492  2.95480718 7.47128898\n",
      "  7.65044446 3.32570348 0.24291079 9.30291106 4.40174063 6.01377783\n",
      "  7.08758545 2.31738286 0.09827122 5.45896845 4.70246791 1.11009209\n",
      "  1.00663585 5.02240957]\n",
      " [3.68772947 4.10481659 1.49447016 7.10267766 6.25239944 1.52513333\n",
      "  4.56232031 3.83673965 9.88092525 9.30776045 2.52592402 4.81286554\n",
      "  3.14933671 7.17185587 8.41708253 4.71142049 7.84808504 8.79580417\n",
      "  2.60627538 3.19234817]\n",
      " [7.45880118 3.44722469 3.13949216 1.19169217 8.63762741 1.26810952\n",
      "  7.3979647  5.63002009 6.84573538 5.56930701 9.02944841 3.11534911\n",
      "  0.97097864 6.17200307 6.08917271 8.38028817 6.59831542 2.89059487\n",
      "  7.76868602 5.33602733]\n",
      " [4.75940599 8.67675957 4.21865982 8.22531025 7.81741922 0.09428752\n",
      "  9.46853578 0.21428493 9.66557921 7.26768469 5.11360642 6.35564532\n",
      "  8.42752644 8.25682319 8.11229336 0.53433821 4.98378489 1.19831439\n",
      "  5.47608388 8.1269676 ]\n",
      " [6.07048247 0.14035335 6.39670401 8.39430225 6.2646803  2.35630668\n",
      "  8.52671251 5.23201873 2.71362345 0.81839486 2.3439764  1.98214776\n",
      "  4.84601796 4.26629419 3.43524105 3.89710946 6.30068664 5.77755528\n",
      "  0.15893195 2.88077045]\n",
      " [3.55570184 7.58525466 2.94053214 3.54940138 8.67573655 4.97545385\n",
      "  1.74944252 2.12780441 3.81704752 8.38297153 8.89526645 2.89577146\n",
      "  6.52195002 1.6537234  9.81321944 8.19354032 7.96220062 6.38170689\n",
      "  8.37478043 5.60987387]\n",
      " [7.72527852 7.54744881 6.76345124 3.49124504 8.98360228 1.7348273\n",
      "  2.8837441  1.67746417 6.95008305 9.57719156 0.10597387 2.40293877\n",
      "  1.33243724 8.33922937 9.70816594 1.719958   5.66580974 6.69341394\n",
      "  1.5331177  3.26257422]\n",
      " [0.27242907 4.06455091 8.43017215 2.40646752 5.82198376 5.77030776\n",
      "  9.3176767  2.50543664 6.64793829 7.61674575 2.69027316 7.92802839\n",
      "  5.1535945  6.25809158 5.98814787 8.19583202 5.78670547 7.27553137\n",
      "  6.27732153 5.19403915]\n",
      " [9.15106879 8.32002056 3.90022016 1.86378299 5.93253206 0.67374959\n",
      "  4.76372825 9.35793774 8.3940348  4.79640067 2.08950673 9.82651126\n",
      "  8.51418092 5.14178267 5.18914833 9.59250965 5.15815779 5.67770994\n",
      "  2.57629459 7.76008844]\n",
      " [2.61265485 2.17784288 5.83167    4.34445637 9.31912753 0.10715845\n",
      "  6.85150775 0.22835212 6.05618499 1.26667106 3.79982151 4.73272712\n",
      "  8.71907106 9.50864442 7.40832217 6.29466666 2.20265791 2.65726717\n",
      "  6.28580285 4.75456946]\n",
      " [5.69584552 3.44197435 5.65889234 4.43031502 6.4848709  2.2796769\n",
      "  8.48647267 0.33355726 3.86397445 1.72610726 7.13586378 9.32812435\n",
      "  9.82466132 2.97250243 7.32848362 5.13015956 1.52527005 1.76631021\n",
      "  4.87670584 7.35310358]\n",
      " [8.97762441 1.7329613  6.66543964 7.81533704 4.30403668 3.96904722\n",
      "  0.42646489 2.40234074 7.32080297 3.51644547 0.08927787 1.42155546\n",
      "  9.94847509 8.63589962 5.85037857 2.10105723 3.7998205  5.2870572\n",
      "  2.78155548 9.52843822]\n",
      " [8.58028061 9.53620952 7.66209509 4.2814129  4.32379208 4.18564961\n",
      "  2.74663565 3.87969394 1.3812046  6.26666944 0.94847085 6.09223878\n",
      "  5.94249356 5.57066268 1.58755374 2.65066955 2.45654383 9.72759376\n",
      "  8.64116009 0.0806007 ]\n",
      " [3.08608093 4.7010393  0.63510843 3.37766671 2.45862624 2.45751165\n",
      "  3.69343026 9.31918153 1.63729311 4.42551492 6.10541864 2.84358341\n",
      "  8.68860583 0.81496089 4.93735186 8.51724551 7.01196699 8.85359777\n",
      "  8.29031325 4.42446408]\n",
      " [5.15034881 3.60699769 9.11897687 0.64815254 7.36683547 9.08599494\n",
      "  9.22377251 7.56789504 9.79993717 6.5817745  2.07350841 6.64909433\n",
      "  0.22235222 1.83263796 0.1402578  3.76996157 7.17571645 2.55186829\n",
      "  6.66817509 3.21483201]\n",
      " [8.28800004 9.10916625 6.32927092 9.34225318 7.39326024 4.43635006\n",
      "  4.96099924 9.56111681 7.31277715 3.20252388 8.13243966 7.99618934\n",
      "  1.66656925 8.97831067 2.74321614 9.78306848 0.80644594 7.37743964\n",
      "  5.78860149 9.50331359]\n",
      " [6.63923471 2.54300684 8.65865025 5.77900825 7.72157169 5.05057578\n",
      "  0.86404076 5.64369775 1.95707176 7.94514115 7.07362372 7.6866496\n",
      "  9.10380695 5.00296486 9.80095528 4.89189212 1.60569467 2.40910131\n",
      "  5.82078673 1.85286172]\n",
      " [8.55345717 2.45118476 2.76416193 9.35564226 7.90927383 8.00059258\n",
      "  3.19856068 3.11441527 4.2322668  5.38773551 6.06700103 7.92010895\n",
      "  0.95460223 2.71403333 5.22179293 5.293092   0.46371691 6.09374347\n",
      "  9.40748772 0.03754245]\n",
      " [5.64189787 3.71490593 4.79918112 3.66085932 8.01865415 4.06213077\n",
      "  5.85491112 0.85091957 2.03479875 2.67113658 5.54865677 0.72411457\n",
      "  0.75530291 8.90624497 1.32049933 4.59757027 0.78354725 8.74819515\n",
      "  8.89517148 3.3321774 ]]\n"
     ]
    }
   ],
   "source": [
    "import numpy as np\n",
    "\n",
    "X = np.random.rand(20,20)\n",
    "X = X * 10\n",
    "print(X)"
   ]
  },
  {
   "cell_type": "markdown",
   "metadata": {},
   "source": [
    "Análisis: Se construye, con base al generador de numeros aleatorios (entre cero y uno) incluido en el modulo de numpy, una matriz 20x20, y se multiplica por 10 para que los valores esten entre 0 y 10.\n",
    "\n",
    "2)Se construye y resuelve el sistema Ax=b, donde: la diagonal principal son 3, los elementos inmediatamente debajo de la diagonal son 2 e inmediatamente arriba de la diagonal -2, :\n"
   ]
  },
  {
   "cell_type": "code",
   "execution_count": 6,
   "metadata": {},
   "outputs": [
    {
     "name": "stdout",
     "output_type": "stream",
     "text": [
      "[[ 3.  2.  0.  0.  0.  0.  0.  0.  0.  0.  0.  0.  0.  0. -2.]\n",
      " [-2.  3.  2.  0.  0.  0.  0.  0.  0.  0.  0.  0.  0.  0.  0.]\n",
      " [ 0. -2.  3.  2.  0.  0.  0.  0.  0.  0.  0.  0.  0.  0.  0.]\n",
      " [ 0.  0. -2.  3.  2.  0.  0.  0.  0.  0.  0.  0.  0.  0.  0.]\n",
      " [ 0.  0.  0. -2.  3.  2.  0.  0.  0.  0.  0.  0.  0.  0.  0.]\n",
      " [ 0.  0.  0.  0. -2.  3.  2.  0.  0.  0.  0.  0.  0.  0.  0.]\n",
      " [ 0.  0.  0.  0.  0. -2.  3.  2.  0.  0.  0.  0.  0.  0.  0.]\n",
      " [ 0.  0.  0.  0.  0.  0. -2.  3.  2.  0.  0.  0.  0.  0.  0.]\n",
      " [ 0.  0.  0.  0.  0.  0.  0. -2.  3.  2.  0.  0.  0.  0.  0.]\n",
      " [ 0.  0.  0.  0.  0.  0.  0.  0. -2.  3.  2.  0.  0.  0.  0.]\n",
      " [ 0.  0.  0.  0.  0.  0.  0.  0.  0. -2.  3.  2.  0.  0.  0.]\n",
      " [ 0.  0.  0.  0.  0.  0.  0.  0.  0.  0. -2.  3.  2.  0.  0.]\n",
      " [ 0.  0.  0.  0.  0.  0.  0.  0.  0.  0.  0. -2.  3.  2.  0.]\n",
      " [ 0.  0.  0.  0.  0.  0.  0.  0.  0.  0.  0.  0. -2.  3.  2.]\n",
      " [ 0.  0.  0.  0.  0.  0.  0.  0.  0.  0.  0.  0.  0. -2.  3.]]\n"
     ]
    }
   ],
   "source": [
    "import numpy as np\n",
    "Dim=20\n",
    "\n",
    "A = np.zeros((Dim,Dim))\n",
    "for i in range(Dim-1):\n",
    "    A[i][i]=3\n",
    "    A[i][i+1]=2\n",
    "    A[i][i-1]=-2\n",
    "A[Dim-1][Dim-1]=3\n",
    "A[Dim-1][Dim-2]=-2\n",
    "print (A)"
   ]
  },
  {
   "cell_type": "markdown",
   "metadata": {},
   "source": [
    "3) Metodos Iterativos:\n",
    "\n",
    "Método de Jacobi:"
   ]
  },
  {
   "cell_type": "code",
   "execution_count": 1,
   "metadata": {},
   "outputs": [],
   "source": [
    "from math import *\n",
    "from pprint import pprint\n",
    "import numpy as np\n",
    "\n",
    "\n",
    "def distinf(x, y):\n",
    "    return max([abs(x[i]-y[i]) for i in range(len(x))])\n",
    "\n",
    "def Jacobi(A, b, x0, TOL, MAX):\n",
    "    n = len(A)\n",
    "    x = [0.0 for x in range(n)]\n",
    "    k = 1\n",
    "    while k <= MAX:\n",
    "        for i in range(n):\n",
    "            if abs(A[i][i]) <= 1e-15:\n",
    "                print(\" Imposible iterar \")\n",
    "                return\n",
    "            s = sum([A[i][j]*x0[j] for j in range(n) if j != i])\n",
    "            x[i] = (b[i]-float(s))/float(A[i][i])\n",
    "        pprint(x)\n",
    "        if distinf(x, x0) < TOL:\n",
    "            print (r\" Solucion encontrada \")\n",
    "            return\n",
    "        k += 1\n",
    "        for i in range(n):\n",
    "            x0[i] = x[i]\n",
    "    print(\" Iteraciones agotadas \")\n",
    "    return"
   ]
  },
  {
   "cell_type": "markdown",
   "metadata": {},
   "source": [
    "Método de Gauss-Seidel:"
   ]
  },
  {
   "cell_type": "code",
   "execution_count": 6,
   "metadata": {},
   "outputs": [],
   "source": [
    "import numpy as np\n",
    "import math\n",
    "\n",
    "def gaussSeidel(A,x,tol = 1.0e-9):\n",
    "    omega = 1.0\n",
    "    k=10\n",
    "    p=1\n",
    "    for i in range(1,501):\n",
    "            xOld = x.copy()\n",
    "            x = A(x,omega)\n",
    "            dx = math.sqrt(np.dot(x-xOld,x-xOld))\n",
    "            if dx < tol: return x,i,omega\n",
    "        # Computar el factor de relajación despues de k+p iteraciones\n",
    "            if i == k: dx1 = dx\n",
    "            if i==k+p:\n",
    "                    dx2 = dx\n",
    "                    omega = 2.0/(1.0 + math.sqrt(1.0  \\\n",
    "                        - (dx2/dx1)**(1.0/p)))\n",
    "    print(\"Gauss-Seidel falló en converger\")"
   ]
  },
  {
   "cell_type": "markdown",
   "metadata": {},
   "source": [
    "## Referencias\n",
    "\n",
    "ANÁLISIS NUMÉRICO. Autores: Richard L. Burden, Douglas J. Faires,  Annette M. Burden\n",
    "\n",
    "Matemáticas para Ingeniería. Autores: Diego Ovalle, Miguel Bernal, Jaime Posada.\n",
    "\n",
    "Numerical Methods in Engineering . Autor: Jaan Kiusalaas\n",
    "\n",
    "http://campusvirtual.cua.uam.mx/material/tallerm/18_Problemas_De_Sistemas_De_Ecuaciones_html/index.html\n",
    "\n",
    "https://es.wikipedia.org/wiki/Sistema_de_ecuaciones_lineales\n",
    "\n",
    "http://www3.fi.mdp.edu.ar/analisis/temas/met_dir/metDir.htm\n",
    "\n",
    "https://www.ingenieria.unam.mx/pinilla/PE105117/pdfs/tema3/3-3_metodos_jacobi_gauss-seidel.pdf\n",
    "\n",
    "http://repobib.ubiobio.cl/jspui/bitstream/123456789/1228/1/Burgos_Alarcon_Dario.pdf\n",
    "\n",
    "https://es.wikipedia.org/wiki/M%C3%A9todo_de_Jacobi\n",
    "\n",
    "https://es.wikipedia.org/wiki/M%C3%A9todo_de_Gauss-Seidel\n",
    "\n",
    "https://sites.google.com/site/procesosnumericoszagarra20131/practica-2/metodo-iterativo-de-sor\n",
    "\n",
    "\n",
    "\n",
    "https://docs.scipy.org/doc/numpy-1.15.1/reference/generated/numpy.random.rand.html\n",
    "\n",
    "https://stackoverflow.com/questions/13347559/create-empty-matrix-python\n",
    "\n"
   ]
  }
 ],
 "metadata": {
  "kernelspec": {
   "display_name": "Python 3",
   "language": "python",
   "name": "python3"
  },
  "language_info": {
   "codemirror_mode": {
    "name": "ipython",
    "version": 3
   },
   "file_extension": ".py",
   "mimetype": "text/x-python",
   "name": "python",
   "nbconvert_exporter": "python",
   "pygments_lexer": "ipython3",
   "version": "3.6.8"
  }
 },
 "nbformat": 4,
 "nbformat_minor": 4
}
