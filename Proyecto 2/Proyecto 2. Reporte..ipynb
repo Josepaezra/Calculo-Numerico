{
 "cells": [
  {
   "cell_type": "markdown",
   "metadata": {},
   "source": [
    "## Universidad Central de Venezuela\n",
    "## Facultad de Ingeniería\n",
    "## Escuela de Ingeniería Eléctrica"
   ]
  },
  {
   "cell_type": "markdown",
   "metadata": {},
   "source": [
    "# <div style=\"text-align: center\"> Proyecto 2 </div>"
   ]
  },
  {
   "cell_type": "markdown",
   "metadata": {},
   "source": [
    "## <div style=\"text-align: right\"> Periodo 2020-3 </div>\n",
    "#### <div style=\"text-align: right\"> 19/01/2021  </div>\n",
    "### <div style=\"text-align: right\"> Prof. Gilberto R. Noguera </div>\n",
    "#### <div style=\"text-align: right\"> Alumno: José Páez C.I.: 24 311 351 </div>"
   ]
  },
  {
   "cell_type": "markdown",
   "metadata": {},
   "source": [
    "## Planteamiento de los Problemas\n",
    "\n",
    "\n",
    "### 1.) \n",
    "\n",
    "Se Considerará $x_0 = [1, 1, · · · , 1]$ y la matriz tridiagonal de orden n = 20 de la forma,\n",
    "\n",
    "<img src=\"Matriz A.png\">\n",
    "\n",
    "A la cual se aplicarán los métodos de la potencia y la potencia inversa para hallar eigenvalores de A. Comparando los resultados.\n",
    "\n",
    "\n",
    "### 2.)\n",
    "\n",
    "Un problema importante que concierne a la probabilidad se expresa de la siguiente forma,\n",
    "\n",
    "$$ P [a≤x≤b] = \\int_{a}^{b} f_X(x)dx $$\n",
    "\n",
    "donde\n",
    "\n",
    "$$ f_X(x) = \\frac{1}{\\sqrt{2πσ^2}} exp \\frac{-x^2}{2σ^2}$$\n",
    "\n",
    "La función $f_X(x)$ es llamada función de densidad de probabilidad Gaussiana, con media cero y varianza\n",
    "$σ^2 = 9$. Se Utilizará la función  x = np.random.normal(mu,sigma,1000) de Python para generar 1000 valores\n",
    "simulados que siguen una distribución normal, elegiendo los valores x tal que −1 ≤ x ≤ 1 para calcular,\n",
    "aplicando los reglas del Trapecio compuesta y Sipmson compueta,\n",
    "$$P = P[−1 ≤ x ≤ 1]$$.\n",
    "\n",
    "\n",
    "### 3.) \n",
    "\n",
    "Se Expresará la ecuación de tercer orden, $x′′′ +tx′′ −tx′ −2x = t$ con condiciones iniciales: $x(0) = x′′(0) = 0, x′(0) = 1$ como un conjunto de ecuaciones de primer orden y se resolverá en $t= 0.2; 0.4; 0.6$ con el metodo de Runge-Kutta con $h= 0.02$."
   ]
  },
  {
   "cell_type": "markdown",
   "metadata": {},
   "source": [
    "## Resolución\n",
    "### 1.) \n",
    "\n",
    "Se formó la matriz a partir de ciclos for y ciertas condiciones, haciendo posible variar las dimensiones de esta, pero resolviendo el problema con n = 20, tal como se indica. \n",
    "\n",
    "Luego se aplicaron los métodos de la Potencia y Potencia Inversa para hallar el mayor y el menor, eigenvalor y eigen vector asociados, respectivamente. \n",
    "\n",
    "* Para el método de la Potencia los resultados obtenidos fueron :\n",
    "\n",
    "Eigenvalor = 6.7988406368112235\n",
    "\n",
    "Eigenvector:\n",
    " [0.15394368 0.21485278 0.44588292 0.40772648 0.69312092 0.5607923\n",
    " 0.87474525 0.66248703 0.9787536  0.70700585 1.         0.69237751\n",
    " 0.93755205 0.61912909 0.79402457 0.49079667 0.57752209 0.31582922\n",
    " 0.30440204 0.10906011]\n",
    " \n",
    " \n",
    "* Mientras que para el método de la Potencia Inversa los resultados obtenidos fueron :\n",
    "\n",
    "Eigenvalor = 5.033340463100365\n",
    "\n",
    "Eigenvector:\n",
    " [ 0.33171531  0.17138743 -0.15461375 -0.25127175 -0.10503551  0.19700302\n",
    "  0.3086067  -0.03755513 -0.34741393 -0.14194331  0.20073816  0.24565874\n",
    "  0.05311095 -0.21821789 -0.27860433  0.07427132  0.35535189  0.10932842\n",
    " -0.24237841 -0.23455813]\n",
    "\n",
    "### 2.) \n",
    "\n",
    "Para determinar la probabilidad $P = P[−1 ≤ x ≤ 1]$, se halló el área debajo de la campana de Gauss en dicho intervalo, ello resolviendo la integral de dicha función, por dos métodos:\n",
    "\n",
    "* A partir de una muestra de 1000 valores simulados que siguen una distribución normal, la seleccion de aquellos entre -1 y 1, el ordenamiento de estos de menor a mayor y su evaluación en la función Gaussiana. \n",
    "\n",
    "Obteniendose como resultados:\n",
    "\n",
    "Integral por Trapecio Compuesto = 0.261577027429894\n",
    "\n",
    "Integral por Simpson Compuesto = 0.263582972184626\n",
    "\n",
    "* A partir directamente de la función Gaussiana $f(x) = \\frac{1}{c\\sqrt{2\\pi}} e^{- { \\frac{(x-b)^2 }{ 2 c^2} } }$ donde la media μ = b y la varianza σ2 = c2, integrnado de -1 a 1.\n",
    "\n",
    "Obteniendose como resultados: \n",
    "\n",
    "Integral por Trapecio Compuesto = 0.132004955265513\n",
    "\n",
    "Integral por Simpson Compuesto = 0.255743622117717\n",
    "\n",
    "\n",
    "### 3.) \n",
    "\n",
    "La solución de este problema consistió en transformar la ecuación diferencial de orden tres (3)\n",
    "\n",
    "$ x′′′ +tx′′ -tx′ −2x = t$\n",
    "\n",
    "Dados\n",
    "\n",
    "$ y = w1 $\n",
    "\n",
    "$y′ = w′1 = w2$\n",
    "\n",
    "$y′′= w′′1 = w′2 = w3$\n",
    "\n",
    "$y′′′= w′′′1 = w′′2 = w′3 = w4 $\n",
    "\n",
    "en tres (3) ecuaciones diferenciales de orden uno (1).\n",
    "\n",
    "$w′1= w2$\n",
    "\n",
    "$w′2 = w3$\n",
    "\n",
    "$w′3 = -tw3 +tw2 +2w1 +t$\n",
    "\n",
    "Luego se procedió a resolver dicho sistema con el método de Runge-Kutta para sistemas, con el parámetro t en 0.2, 0.4 y 0.6.\n",
    "\n",
    "y expresando la solución en grafícas, para mejor visualización de la data, se obtuvo:\n",
    "\n",
    "<img src=\"Graficas sistema EDO RK4.png\">"
   ]
  },
  {
   "cell_type": "markdown",
   "metadata": {},
   "source": [
    "## Conclusiones\n",
    "\n",
    "Al resolver el problema de Eigenvalores y Eigenvectores, los resultados corresponden a los esperado al estimar los autovalores con los circulos de Gershgorin (los autovalores se encuentran dentro de ellos), lo cual es un señal de que los algoritmos lograron encontrar los valores y vectores correctamente.\n",
    "\n",
    "Para resolver la integral de la campana de Gauss se usaron 2 métodos, el sugerido por el profesor, a partir de un muestra de valores, y a partir de la misma función  de Gauss, arrojando valores de areas cercanos, dadas las dimensiones de la campana.\n",
    "\n",
    "Para el Sistema de ecuaciones formado a partir de de la ecuación diferencial ordianaria de orden 3, con t: 0.2, 0.4, 0.6, los resultados fueron parecidos debido a la cercanía de t, sin embargo existen diferencias en cuanto a los puntos de corte entre las funciones.\n",
    "\n",
    ".\n",
    "\n",
    "Se da por demostrado el inmenso poder de los métodos numéricos para resolver problemas de ciencia e ingeniería; tambien cómo el desarrollo de algoritmos a travez de la historia, nos permite hoy en día aproximar confiablemente resultados a cuestiones irresolubles (practicamente) por métodos analíticos, así como la aplicación en cuestiones reales de las técnicas compiladas en la cátedra de cálculo numérico."
   ]
  },
  {
   "cell_type": "markdown",
   "metadata": {},
   "source": [
    "## Bibliografía Consultada\n",
    "\n",
    "Análisis numérico,10a. ed. Autores : Richard L. Burden ,J. Douglas Faires y Annette M. Burden.\n",
    "\n",
    "Diferenciación e Integración Numérica. Autor: José Paéz\n",
    "\n",
    "Autovalores y Autovectores. Autor: José Paéz\n",
    "\n",
    "Ecuaciones Diferenciales Ordinarias. Autor: José Paéz\n",
    "\n",
    "Numerical Methods in Engineering. Autor:  Jaan Kiusalaas \n",
    "\n",
    "[Función gaussiana](https://es.wikipedia.org/wiki/Funci%C3%B3n_gaussiana)\n"
   ]
  },
  {
   "cell_type": "markdown",
   "metadata": {},
   "source": [
    "## Códigos Desarrollados y Comentados"
   ]
  },
  {
   "cell_type": "markdown",
   "metadata": {},
   "source": [
    "#### Problema 1: Eigen-Valores y Eigen-Vectores"
   ]
  },
  {
   "cell_type": "code",
   "execution_count": 6,
   "metadata": {},
   "outputs": [
    {
     "name": "stdout",
     "output_type": "stream",
     "text": [
      "[[4. 2. 0. 0. 0. 0. 0. 0. 0. 0. 0. 0. 0. 0. 0. 0. 0. 0. 0. 0.]\n",
      " [1. 4. 1. 0. 0. 0. 0. 0. 0. 0. 0. 0. 0. 0. 0. 0. 0. 0. 0. 0.]\n",
      " [0. 2. 4. 2. 0. 0. 0. 0. 0. 0. 0. 0. 0. 0. 0. 0. 0. 0. 0. 0.]\n",
      " [0. 0. 1. 4. 1. 0. 0. 0. 0. 0. 0. 0. 0. 0. 0. 0. 0. 0. 0. 0.]\n",
      " [0. 0. 0. 2. 4. 2. 0. 0. 0. 0. 0. 0. 0. 0. 0. 0. 0. 0. 0. 0.]\n",
      " [0. 0. 0. 0. 1. 4. 1. 0. 0. 0. 0. 0. 0. 0. 0. 0. 0. 0. 0. 0.]\n",
      " [0. 0. 0. 0. 0. 2. 4. 2. 0. 0. 0. 0. 0. 0. 0. 0. 0. 0. 0. 0.]\n",
      " [0. 0. 0. 0. 0. 0. 1. 4. 1. 0. 0. 0. 0. 0. 0. 0. 0. 0. 0. 0.]\n",
      " [0. 0. 0. 0. 0. 0. 0. 2. 4. 2. 0. 0. 0. 0. 0. 0. 0. 0. 0. 0.]\n",
      " [0. 0. 0. 0. 0. 0. 0. 0. 1. 4. 1. 0. 0. 0. 0. 0. 0. 0. 0. 0.]\n",
      " [0. 0. 0. 0. 0. 0. 0. 0. 0. 2. 4. 2. 0. 0. 0. 0. 0. 0. 0. 0.]\n",
      " [0. 0. 0. 0. 0. 0. 0. 0. 0. 0. 1. 4. 1. 0. 0. 0. 0. 0. 0. 0.]\n",
      " [0. 0. 0. 0. 0. 0. 0. 0. 0. 0. 0. 2. 4. 2. 0. 0. 0. 0. 0. 0.]\n",
      " [0. 0. 0. 0. 0. 0. 0. 0. 0. 0. 0. 0. 1. 4. 1. 0. 0. 0. 0. 0.]\n",
      " [0. 0. 0. 0. 0. 0. 0. 0. 0. 0. 0. 0. 0. 2. 4. 2. 0. 0. 0. 0.]\n",
      " [0. 0. 0. 0. 0. 0. 0. 0. 0. 0. 0. 0. 0. 0. 1. 4. 1. 0. 0. 0.]\n",
      " [0. 0. 0. 0. 0. 0. 0. 0. 0. 0. 0. 0. 0. 0. 0. 2. 4. 2. 0. 0.]\n",
      " [0. 0. 0. 0. 0. 0. 0. 0. 0. 0. 0. 0. 0. 0. 0. 0. 1. 4. 1. 0.]\n",
      " [0. 0. 0. 0. 0. 0. 0. 0. 0. 0. 0. 0. 0. 0. 0. 0. 0. 2. 4. 2.]\n",
      " [0. 0. 0. 0. 0. 0. 0. 0. 0. 0. 0. 0. 0. 0. 0. 0. 0. 0. 1. 4.]]\n",
      "[1. 1. 1. 1. 1. 1. 1. 1. 1. 1. 1. 1. 1. 1. 1. 1. 1. 1. 1. 1.]\n"
     ]
    }
   ],
   "source": [
    "import numpy as np\n",
    "\n",
    "n=20 # n: Determina las dimensiones de la matriz A\n",
    "A = np.zeros((n,n))\n",
    "for i in range(n-1):\n",
    "    A[i][i]=4\n",
    "for i in range(int((n-1)/2)):\n",
    "    A[i*2][((i+1)*2)-1]=2\n",
    "    A[(i*2)+2][((i+1)*2)-1]=2\n",
    "    A[((i+1)*2)-1][i*2]=1\n",
    "    A[((i+1)*2)-1][(i*2)+2]=1\n",
    "    \n",
    "A[n-1][n-1]=4\n",
    "A[n-1][n-2]=1\n",
    "A[n-2][n-1]=2\n",
    "#A[0][n-1]=0\n",
    "print (A)  #A: Matriz de nxn\n",
    "\n",
    "x0 = np.ones(n)\n",
    "\n",
    "print(x0)  #b: Vector de dimensión n"
   ]
  },
  {
   "cell_type": "code",
   "execution_count": 2,
   "metadata": {},
   "outputs": [],
   "source": [
    "# Método de la Potencia\n",
    "import numpy as np\n",
    "def Potencia(x,a):  \n",
    "    def normalizar(x):\n",
    "        fac= abs(x).max()\n",
    "        x_n= x / x.max()\n",
    "        return fac, x_n\n",
    "\n",
    "\n",
    "    for i in range(100):\n",
    "        x = np.dot(a, x) \n",
    "        lambda_1, x= normalizar(x)\n",
    "    return lambda_1, x"
   ]
  },
  {
   "cell_type": "code",
   "execution_count": 3,
   "metadata": {},
   "outputs": [
    {
     "name": "stdout",
     "output_type": "stream",
     "text": [
      "Eigenvalor = 6.7988406368112235\n",
      "\n",
      "Eigenvector:\n",
      " [0.15394368 0.21485278 0.44588292 0.40772648 0.69312092 0.5607923\n",
      " 0.87474525 0.66248703 0.9787536  0.70700585 1.         0.69237751\n",
      " 0.93755205 0.61912909 0.79402457 0.49079667 0.57752209 0.31582922\n",
      " 0.30440204 0.10906011]\n"
     ]
    }
   ],
   "source": [
    "# Prueba Método de la Potencia\n",
    "\n",
    "\n",
    "lam,x = Potencia(x0,A)\n",
    "print(\"Eigenvalor =\",lam)\n",
    "print(\"\\nEigenvector:\\n\",x)"
   ]
  },
  {
   "cell_type": "code",
   "execution_count": 4,
   "metadata": {},
   "outputs": [],
   "source": [
    "#Método de la Potencia inversa\n",
    "import numpy as np\n",
    "import math\n",
    "from random import random\n",
    "\n",
    "from numpy import dot\n",
    "\n",
    "def LUdecomp(a):\n",
    "    n = len(a)\n",
    "    for k in range(0,n-1):\n",
    "        for i in range(k+1,n):\n",
    "           if abs(a[i,k]) > 1.0e-9:\n",
    "               lam = a [i,k]/a[k,k]\n",
    "               a[i,k+1:n] = a[i,k+1:n] - lam*a[k,k+1:n]\n",
    "               a[i,k] = lam\n",
    "    return a\n",
    "\n",
    "def LUsol(a,b):\n",
    "    n = len(a)\n",
    "    for k in range(1,n):\n",
    "        b[k] = b[k] - dot(a[k,0:k],b[0:k])\n",
    "    b[n-1] = b[n-1]/a[n-1,n-1]    \n",
    "    for k in range(n-2,-1,-1):\n",
    "       b[k] = (b[k] - dot(a[k,k+1:n],b[k+1:n]))/a[k,k]\n",
    "    return b\n",
    "\n",
    "def Potenciainv(a,s,tol=1.0e-6):\n",
    "    n = len(a)\n",
    "    aEstrella = a - np.identity(n)*s  # Formar [a*] = [a] - s[I]\n",
    "    aEstrella = LUdecomp(aEstrella)       # Descomponer [a*]\n",
    "    x = np.zeros(n)\n",
    "    for i in range(n):            # Llenar [x] con números random\n",
    "        x[i] = random()\n",
    "    xMag = math.sqrt(np.dot(x,x)) # Normalizar [x]\n",
    "    x =x/xMag\n",
    "    for i in range(50):           # Comenzar iteraciones\n",
    "        xViejo = x.copy()           # Salvar actual [x]\n",
    "        x = LUsol(aEstrella,x)      # Resolver [a*][x] = [xViejo]\n",
    "        xMag = math.sqrt(np.dot(x,x)) # Normalizar [x]\n",
    "        x = x/xMag\n",
    "        if np.dot(xViejo,x) < 0.0:  # Detectar cambio de signo en [x]\n",
    "            sign = -1.0\n",
    "            x=-x\n",
    "        else: sign = 1.0\n",
    "        if math.sqrt(np.dot(xViejo - x,xViejo - x)) < tol:\n",
    "            return s + sign/xMag,x\n",
    "    print(\"El método de la potencia inversa no converge\")\n"
   ]
  },
  {
   "cell_type": "code",
   "execution_count": 5,
   "metadata": {},
   "outputs": [
    {
     "name": "stdout",
     "output_type": "stream",
     "text": [
      "Eigenvalor = 5.033340463100365\n",
      "\n",
      "Eigenvector:\n",
      " [ 0.33171531  0.17138743 -0.15461375 -0.25127175 -0.10503551  0.19700302\n",
      "  0.3086067  -0.03755513 -0.34741393 -0.14194331  0.20073816  0.24565874\n",
      "  0.05311095 -0.21821789 -0.27860433  0.07427132  0.35535189  0.10932842\n",
      " -0.24237841 -0.23455813]\n"
     ]
    }
   ],
   "source": [
    "#Prueba Método de la Potencia Inversa\n",
    "s = 5.0\n",
    "\n",
    "lam,x = Potenciainv(A,s)\n",
    "print(\"Eigenvalor =\",lam)\n",
    "print(\"\\nEigenvector:\\n\",x)"
   ]
  },
  {
   "cell_type": "markdown",
   "metadata": {},
   "source": [
    "#### Problema 2: Integración"
   ]
  },
  {
   "cell_type": "code",
   "execution_count": 12,
   "metadata": {},
   "outputs": [
    {
     "data": {
      "text/plain": [
       "array([0.126030702486646, 0.126334127553166, 0.126678255126658,\n",
       "       0.126679037520381, 0.127473172604629, 0.127690123513451,\n",
       "       0.127733612033975, 0.127803322048374, 0.128124095600918,\n",
       "       0.128367632858049, 0.128430341073680, 0.128578405475912,\n",
       "       0.128670711678461, 0.129010775179137, 0.129031849158075,\n",
       "       0.129714089203036, 0.129889375502795, 0.130359190425635,\n",
       "       0.130467621260397, 0.130544087318443, 0.130636771551617,\n",
       "       0.131133696697780, 0.131428445551457, 0.131466994898723,\n",
       "       0.131532063738928, 0.131930404176520, 0.132010518776014,\n",
       "       0.132369346625003, 0.132389661142455, 0.132397458380970,\n",
       "       0.132675373314480, 0.132690429421528, 0.132699713769773,\n",
       "       0.132700171673455, 0.132730153618805, 0.132913925711126,\n",
       "       0.132915654239845, 0.132930480096543, 0.132964069637934,\n",
       "       0.132968663000925, 0.132971037951989, 0.132979716516023,\n",
       "       0.132979986966827, 0.132980567444159, 0.132976853888543,\n",
       "       0.132963163166211, 0.132954967814144, 0.132943969378744,\n",
       "       0.132934570440950, 0.132819971231442, 0.132781528692134,\n",
       "       0.132635287832031, 0.132525550976804, 0.132509995189841,\n",
       "       0.132435229353139, 0.132394798752935, 0.132259213349844,\n",
       "       0.132147570690218, 0.132138248595665, 0.131974748156238,\n",
       "       0.131944428669847, 0.131929115832210, 0.131890463968783,\n",
       "       0.131786268561645, 0.131562494829214, 0.131365874402422,\n",
       "       0.131201091338596, 0.131081981685710, 0.131073914083036,\n",
       "       0.130832995823113, 0.130589203194296, 0.129998863858840,\n",
       "       0.129637822043023, 0.129620117514832, 0.129613923491672,\n",
       "       0.129464042613584, 0.129344392278667, 0.129018819053826,\n",
       "       0.128500491895077, 0.128455327996141, 0.128147858261230,\n",
       "       0.128102779694708, 0.127838050791671, 0.126873055916189,\n",
       "       0.125951250933944], dtype=object)"
      ]
     },
     "execution_count": 12,
     "metadata": {},
     "output_type": "execute_result"
    }
   ],
   "source": [
    "import numpy as np \n",
    "\n",
    "mu = 0\n",
    "sigma = 9\n",
    "n = 1000\n",
    "y = []\n",
    "x = np.random.normal(mu,sigma,n) #Generar n valores simulados  que  siguen  una  distribución  normal\n",
    "for i in range(n-1):\n",
    "    if  -1<x[i] and x[i]<1:\n",
    "        y.append(x[i])  # Selecciona aquelloos entre -1 y 1\n",
    "y.sort()  #Los ordena de menor a mayor\n",
    "\n",
    "p = y\n",
    "b = 0\n",
    "c = 3\n",
    "f = lambda t: (1/(c*sqrt(2*3.141592)))*exp(-(t-b)**2/(2*c**2))\n",
    "nm = np.array([f(pi) for pi in p])\n",
    "nm\n"
   ]
  },
  {
   "cell_type": "code",
   "execution_count": 13,
   "metadata": {},
   "outputs": [
    {
     "name": "stdout",
     "output_type": "stream",
     "text": [
      "0.261577027429894\n"
     ]
    }
   ],
   "source": [
    "# Método del Trapecio Compuesto\n",
    "import numpy as np\n",
    "a = -1\n",
    "b = 1\n",
    "n = len(nm)\n",
    "h = (b - a) / (n -1)\n",
    "x = np.linspace(a, b, n)\n",
    "f = nm\n",
    "\n",
    "I_trap= (h/2)*(f[0] +2*sum(f[1:n-1])+ f[n-1])\n",
    "\n",
    "print(I_trap)"
   ]
  },
  {
   "cell_type": "code",
   "execution_count": 14,
   "metadata": {},
   "outputs": [
    {
     "name": "stdout",
     "output_type": "stream",
     "text": [
      "0.263582972184626\n"
     ]
    }
   ],
   "source": [
    "# Método de Simpson Compuesto:\n",
    "    \n",
    "import numpy as np\n",
    "a =-1\n",
    "b = 1\n",
    "n =len(nm)\n",
    "h = (b - a) / (n -1)\n",
    "x = np.linspace(a, b, n)\n",
    "f = nm\n",
    "\n",
    "I_simp= (h/3)*(f[0] +2*sum(f[:n-2:2]) +4*sum(f[1:n-1:2]) + f[n-1])\n",
    "\n",
    "print(I_simp)"
   ]
  },
  {
   "cell_type": "markdown",
   "metadata": {},
   "source": [
    "##### Medianto el uso de la función gaussiana:"
   ]
  },
  {
   "cell_type": "code",
   "execution_count": 5,
   "metadata": {},
   "outputs": [
    {
     "data": {
      "text/latex": [
       "$\\displaystyle 0.132980773966744 e^{- \\frac{t^{2}}{18}}$"
      ],
      "text/plain": [
       "0.132980773966744*exp(-t**2/18)"
      ]
     },
     "execution_count": 5,
     "metadata": {},
     "output_type": "execute_result"
    }
   ],
   "source": [
    "from sympy import *\n",
    "from sympy.abc import  t\n",
    "b=0\n",
    "c=3\n",
    "f=(1/(c*sqrt(2*3.141592)))*exp(-(t-b)**2/(2*c**2))  #Función gaussiana, dada media=0 y varianza=9\n",
    "f\n"
   ]
  },
  {
   "cell_type": "code",
   "execution_count": 11,
   "metadata": {},
   "outputs": [
    {
     "name": "stdout",
     "output_type": "stream",
     "text": [
      "Integral por Trapecio Compuesto = 0.133002232422777\n"
     ]
    }
   ],
   "source": [
    "def trapecio_comp(func, a, b, h):\n",
    "    \n",
    "    def f(r): return func.subs('t', r).evalf()\n",
    "    summ = sum([f(a+i*h) for i in range(int(b/h))])\n",
    "    resultado = h / 2 * (f(a) + f(b)) + h*summ\n",
    "    return resultado\n",
    "\n",
    "a= -1\n",
    "b= 1\n",
    "h = (b-a)/100\n",
    "tc= trapecio_comp(f, a, b, h)\n",
    "\n",
    " \n",
    "print(\"Integral por Trapecio Compuesto =\", tc)"
   ]
  },
  {
   "cell_type": "code",
   "execution_count": 4,
   "metadata": {},
   "outputs": [
    {
     "name": "stdout",
     "output_type": "stream",
     "text": [
      "Integral por Simpson Compuesto = 0.255743622117717\n"
     ]
    }
   ],
   "source": [
    "def simpson_comp(func, a, b, h):\n",
    "    \n",
    "    n = int(b//h)\n",
    "    h = (b-a) / n\n",
    "    def f(r): return func.subs('t', r).evalf()\n",
    "    summ1 = sum([f(a+(2*i-2)*h) for i in range(2, int(n/2)+1)])\n",
    "    summ2 = sum([f(a+(2*i-1)*h) for i in range(1, int(n/2)+1)])\n",
    "    resultado = (h) / 3 * (f(a) + 2*summ1 + 4*summ2 + f(b))\n",
    "    return resultado\n",
    "a= -1\n",
    "b= 1\n",
    "h = (b-a)/94\n",
    "sc= simpson_comp(f, a, b, h)\n",
    "\n",
    "print(\"Integral por Simpson Compuesto =\", sc)\n"
   ]
  },
  {
   "cell_type": "markdown",
   "metadata": {},
   "source": [
    "#### Problema 3: Ecuaciones Diferenciales Ordinarias"
   ]
  },
  {
   "cell_type": "code",
   "execution_count": 14,
   "metadata": {},
   "outputs": [],
   "source": [
    "# Problema 3\n",
    "\n",
    "import numpy as np\n",
    "import matplotlib.pyplot as plt\n",
    "\n",
    "from mpl_toolkits.mplot3d import Axes3D\n",
    "\n",
    "def runge_kutta_sistema(f, g, e, x0, y0, z0, a, b, h):\n",
    "    t = np.arange(a, b + h, h)\n",
    "    n = len(t)\n",
    "    x = np.zeros(n)\n",
    "    y = np.zeros(n)\n",
    "    z = np.zeros(n)\n",
    "    x[0] = x0\n",
    "    y[0] = y0\n",
    "    z[0] = z0\n",
    "    for i in range(n - 1):\n",
    "        k1 = h * f(x[i], y[i], z[i], t[i])\n",
    "        l1 = h * g(x[i], y[i], z[i], t[i])\n",
    "        m1 = h * e(x[i], y[i], z[i], t[i])\n",
    "        \n",
    "        k2 = h * f(x[i] + k1 / 2, y[i] + l1 / 2, z[i] + m1 / 2, t[i] + h / 2)\n",
    "        l2 = h * g(x[i] + k1 / 2, y[i] + l1 / 2, z[i] + m1 / 2, t[i] + h / 2)\n",
    "        m2 = h * e(x[i] + k1 / 2, y[i] + l1 / 2, z[i] + m1 / 2, t[i] + h / 2)\n",
    "        \n",
    "        k3 = h * f(x[i] + k2 / 2, y[i] + l2 / 2, z[i] + m2 / 2, t[i] + h / 2)\n",
    "        l3 = h * g(x[i] + k2 / 2, y[i] + l2 / 2, z[i] + m2 / 2, t[i] + h / 2)\n",
    "        m3 = h * e(x[i] + k2 / 2, y[i] + l2 / 2, z[i] + m2 / 2, t[i] + h / 2)\n",
    "        \n",
    "        k4 = h * f(x[i] + k3, y[i] + l3, z[i] + m3, t[i] + h)\n",
    "        l4 = h * g(x[i] + k3, y[i] + l3, z[i] + m3, t[i] + h)\n",
    "        m4 = h * e(x[i] + k3, y[i] + l3, z[i] + m3, t[i] + h)\n",
    "        \n",
    "        x[i + 1] = x[i] + (1 / 6) * (k1 + 2 * k2 + 2 * k3 + 2 * k4)\n",
    "        y[i + 1] = y[i] + (1 / 6) * (l1 + 2 * l2 + 2 * l3 + 2 * l4)\n",
    "        z[i + 1] = z[i] + (1 / 6) * (m1 + 2 * m2 + 2 * m3 + 2 * m4)\n",
    "    plt.plot(t, x, t, y, t, z)\n",
    "    plt.show()\n",
    "     "
   ]
  },
  {
   "cell_type": "code",
   "execution_count": 23,
   "metadata": {},
   "outputs": [
    {
     "data": {
      "image/png": "[encoded data removed]",
      "text/plain": [
       "<Figure size 432x288 with 1 Axes>"
      ]
     },
     "metadata": {
      "needs_background": "light"
     },
     "output_type": "display_data"
    },
    {
     "data": {
      "image/png": "[encoded data removed]",
      "text/plain": [
       "<Figure size 432x288 with 1 Axes>"
      ]
     },
     "metadata": {
      "needs_background": "light"
     },
     "output_type": "display_data"
    },
    {
     "data": {
      "image/png": "[encoded data removed]",
      "text/plain": [
       "<Figure size 432x288 with 1 Axes>"
      ]
     },
     "metadata": {
      "needs_background": "light"
     },
     "output_type": "display_data"
    },
    {
     "data": {
      "image/png": "[encoded data removed]",
      "text/plain": [
       "<Figure size 432x288 with 1 Axes>"
      ]
     },
     "metadata": {
      "needs_background": "light"
     },
     "output_type": "display_data"
    }
   ],
   "source": [
    "a = 0\n",
    "b = 2\n",
    "x0 = 0\n",
    "y0 = 1\n",
    "z0 = 0\n",
    "h = 0.02\n",
    "\n",
    "# f = w′1 = y\n",
    "# g = w′2 = z\n",
    "# e = w′3 = -t*z +t*y + 2*x +t\n",
    "f = lambda x,y,z,t: y ;\n",
    "g = lambda x,y,z,t: z ;\n",
    "e = lambda x,y,z,t: -t*z +t*y + 2*x +t ;\n",
    "runge_kutta_sistema(f, g, e, x0, y0, z0, a, b, h)\n",
    "\n",
    "# t = 0.2\n",
    "e = lambda x,y,z,t: -0.2*z +0.2*y + 2*x +0.2\n",
    "runge_kutta_sistema(f, g, e, x0, y0, z0, a, b, h)\n",
    "# t = 0.4\n",
    "e = lambda x,y,z,t: -0.4*z +0.4*y + 2*x +0.4 \n",
    "runge_kutta_sistema(f, g, e, x0, y0, z0, a, b, h)\n",
    "# t = 0.6\n",
    "e = lambda x,y,z,t: -0.6*t*z +0.6*y + 2*x +0.6 \n",
    "runge_kutta_sistema(f, g, e, x0, y0, z0, a, b, h)"
   ]
  }
 ],
 "metadata": {
  "kernelspec": {
   "display_name": "Python 3",
   "language": "python",
   "name": "python3"
  },
  "language_info": {
   "codemirror_mode": {
    "name": "ipython",
    "version": 3
   },
   "file_extension": ".py",
   "mimetype": "text/x-python",
   "name": "python",
   "nbconvert_exporter": "python",
   "pygments_lexer": "ipython3",
   "version": "3.6.8"
  }
 },
 "nbformat": 4,
 "nbformat_minor": 4
}
