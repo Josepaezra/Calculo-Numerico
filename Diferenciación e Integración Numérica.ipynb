{
 "cells": [
  {
   "cell_type": "markdown",
   "metadata": {},
   "source": [
    "## Universidad Central de Venezuela\n",
    "## Facultad de Ingeniería\n",
    "## Escuela de Ingeniería Eléctrica"
   ]
  },
  {
   "cell_type": "markdown",
   "metadata": {},
   "source": [
    "# <div style=\"text-align: center\"> Diferenciación e Integración Numérica </div>"
   ]
  },
  {
   "cell_type": "markdown",
   "metadata": {},
   "source": [
    "## <div style=\"text-align: right\"> Periodo 2020-3 </div>\n",
    "#### <div style=\"text-align: right\"> 19/01/2021  </div>\n",
    "### <div style=\"text-align: right\"> Prof. Gilberto R. Noguera </div>\n",
    "#### <div style=\"text-align: right\"> Alumno: José Páez C.I.: 24 311 351 </div>"
   ]
  },
  {
   "cell_type": "markdown",
   "metadata": {},
   "source": [
    "## Introducción\n",
    "\n",
    "\n",
    "En análisis numérico, la diferenciación numérica consiste en una serie de algoritmos capaces de estimar la derivada de una función matemática o una función subrutina usando valores (puntos) de la función o quizás otro conocimiento de esta.\n",
    "\n",
    "La integración numérica constituye una amplia gama de algoritmos para calcular el valor numérico de una integral definida y, por extensión, el término se usa a veces para describir algoritmos numéricos para resolver ecuaciones diferenciales. El término cuadratura numérica (a menudo abreviado a cuadratura) es más o menos sinónimo de integración numérica, especialmente si se aplica a integrales de una dimensión a pesar de que para el caso de dos o más dimensiones (integral múltiple) también se utiliza. \n",
    "\n",
    "Lo métodos numericos de diferenciación e integración son útiles por el hecho de que se pueden operar funciones, aveces por el hecho de que no se dispone de la representación analítica de ellas, a partir de una tabla de datos."
   ]
  },
  {
   "cell_type": "markdown",
   "metadata": {},
   "source": [
    "## Marco Teórico\n",
    "\n",
    "#### Métodos de Derivación Numérica\n",
    "\n",
    "Partiendo de la definición la derivada de una función $ f(x) $, que es:\n",
    "\n",
    "$$ f^\\prime (x)= \\lim_{h \\to 0} \\frac {f(x+h)-f(x)} {h} $$\n",
    "\n",
    "Las ecuaciones para aproximar la primera (y segunda derivada) de una funcion real de una variable real  son :\n",
    "\n",
    " En dos puntos:\n",
    "\n",
    "* Diferencias hacia adelante:\n",
    "\n",
    "$$ f^\\prime (x_0) \\approx \\frac {f(x_0+h)-f(x_0)} {h} - \\frac {h}{2}f^{\\prime\\prime}(ξ)$$\n",
    "\n",
    "* Diferencias hacia atrás:\n",
    "\n",
    "$$ f^\\prime (x_0) \\approx \\frac {f(x_0)-f(x_0-h)} {h} - \\frac {h}{2}f^{\\prime\\prime}(ξ) $$\n",
    "\n",
    "* En tres puntos las formulas son:\n",
    "\n",
    "\n",
    "$$ f^\\prime (x_0) \\approx \\frac {-3f(x_0) +4f(x_0+h)-f(x_0+2h)} {2h} + \\frac {h^2}{3}f^{\\prime\\prime\\prime}(ξ_0)$$\n",
    "\n",
    "$$ f^\\prime (x_0) \\approx \\frac {-f(x_0-h) +4f(x_0+h)} {2h} + \\frac {h}{6}f^{\\prime\\prime\\prime}(ξ_1)$$\n",
    "\n",
    "$$ f^\\prime (x_0) \\approx \\frac {f(x_0-2h) -4f(x_0-h)+3f(x_0)} {2h} + \\frac {h}{3}f^{\\prime\\prime\\prime}(ξ_2)$$\n",
    "\n",
    "El error de truncamiento viene dado al disponer de la parte $f(ξ)$ en cada uno de las ecuaciones anteriores.\n",
    "\n",
    "\n",
    "#### Métodos de Integración Numérica\n",
    "\n",
    "Los metodos numéricos de integración simple, trapecio y Simpson, viene dadas por las siguientes formulas:\n",
    "\n",
    "* **Trapecio**:\n",
    "\n",
    "Corresponde al caso donde el polinomio sustituto de la ecuación original es del primer orden aunque la fórmula original no pase por el punto $\\left(\\frac{a+b}{2}, f\\left(\\frac{a+b}{2}\\right)\\right)$. \n",
    "\n",
    "Entonces si:\n",
    ":$\n",
    " I=\\int_a^b\\left[ f(a)+\\frac{f(b)-f(a)}{b-a}(x-a)\\right]d x\n",
    " $\n",
    "\n",
    "\n",
    "la regla de integración es:\n",
    ":$\n",
    " I=(b-a)\\frac{f(a)+f(b)}{2}\n",
    " $\n",
    " \n",
    " \n",
    "* **Regla de Simpson**:\n",
    "\n",
    "La función interpoladora puede ser un polinomio de grado 2 que pasa a través de los puntos $\\ (a, f(a))$, $(\\frac{a+b}{2}, f(\\frac{a+b}{2}))$ y $\\ (b, f(b))$. \n",
    "\n",
    "La integral viene dada por:\n",
    ":$ \\int_{a}^{b} f(x) \\, dx \\approx \\frac{b-a}{6}\\left[f(a) + 4f\\left(\\frac{a+b}{2}\\right)+f(b)\\right]$.\n",
    " \n",
    "\n",
    "Los metodos numéricos de integración compuesta; trapecio y Simpson.\n",
    "\n",
    "* La **regla del trapecio compuesta** puede expresarse como:\n",
    "\n",
    ":$\\int_a^b f(x) dx \\sim \\frac{b-a}{n} \\left( \\frac{f(a) + f(b)}{2} + \\sum_{k=1}^{n-1} f\\left(a + k \\frac{b-a}{n}\\right) \\right)$\n",
    "\n",
    "donde los subintervalos tienen la forma $\\ [kh, (k+1)h]$ con<br />$\\ h = \\frac {b-a}{n}$<br />y $\\ k = 0, 1, 2, \\ldots, n-1$.\n",
    "\n",
    "\n",
    "\n",
    "* La **fórmula compuesta de Simpson** se aplica en el caso de que el intervalo [''a'',''b''] no sea lo suficientemente pequeño, el error al calcular la integral puede ser muy grande. \n",
    "Se divide el intervalo [''a'',''b''] en ''n'' subintervalos iguales (con ''n'' par), de manera que $ x_i = a + ih$, donde $ h = (b-a)/n$ para $i = 0, 1, ..., n$.\n",
    "\n",
    "Aplicando la Regla de Simpson a cada subintervalo $ [x_{j-1},x_{j+1}],\\  j=1,3,5, ..., n-1, $ tenemos:\n",
    ":$\\int_{x_{j-1}}^{x_{j+1}} f(x)\\, dx \\approx \\frac{x_{j+1}-x_{j-1}}{6}\\left[f(x_{j-1}) + 4f(x_j)+f(x_{j+1})]\\right.$\n",
    "\n",
    "Sumando las integrales de todos los subintervalos, llegamos a que:\n",
    "\n",
    ":$\\int_a^b f(x) \\, dx\\approx \n",
    "\\frac{h}{3}\\bigg[f(x_0)+2\\sum_{j=1}^{(n)-1}f(x_{2j})+\n",
    "4\\sum_{j=1}^{n}f(x_{2j-1})+f(x_n)\n",
    "\\bigg],$\n",
    "\n",
    "\n",
    "* Metodo de los coeficientes indeterminados: \n",
    "\n",
    "Consiste en encontrar una cuadratura $$ Q(f) = \\sum_{i=0}^{n}ω_{i}f(x_i)$$\n",
    "\n",
    "tal que sea exacta para polinomios de grado menor o igual a m.\n",
    "\n",
    "Consideremos dos casos:\n",
    "\n",
    "a) todos los nodos xi son conocidos y todos los pesos ωi se deben calcular\n",
    "\n",
    "b)  algunos nodos xi y pesos ωi son conocidos, y los restantesnodos y pesos se deben determinar.\n",
    "\n",
    "En ambos casos tomamos a{1,x,x2,...,xn} como la base de Πn. Luego, todo polinomio de grado menor o igual an se puede escribir como una combinación lineal de los elementos de esta base.\n",
    "\n",
    "\n",
    "En el caso a), la idea es encontrar los valores de los pesos ωi de tal forma que la cuadratura Q(f) sea exacta para polinomios de grado menor o igual a m=n, es decir, I(xj)−Q(xj) = 0, para j= 0,1,...,n.\n",
    "\n",
    "En el caso b), la idea es encontrar algunos pesos ωi y algunos nodos xi de tal forma que la cuadratura Q(f) sea exacta para polinomios de grado menor o igual a m."
   ]
  },
  {
   "cell_type": "markdown",
   "metadata": {},
   "source": [
    "## Práctica\n",
    "\n"
   ]
  },
  {
   "cell_type": "code",
   "execution_count": null,
   "metadata": {},
   "outputs": [],
   "source": [
    "* Tabla de datos a derivar"
   ]
  },
  {
   "cell_type": "code",
   "execution_count": 10,
   "metadata": {},
   "outputs": [
    {
     "name": "stdout",
     "output_type": "stream",
     "text": [
      "[15 20 25 30 35 40 45 50 55 60 65 70 75 80 85]\n",
      "[-0.366, 1.697, 2.245, 2.224, 2.196, 2.527, 3.471, 5.213, 7.892, 11.619, 16.478, 22.54, 29.863, 38.494, 48.475]\n"
     ]
    }
   ],
   "source": [
    "#Tabla de Datos\n",
    "\n",
    "import numpy as np\n",
    "h=5\n",
    "x= np.arange(15, 90, h)\n",
    "y = [-0.366, 1.697, 2.245, 2.224, 2.196, 2.527, 3.471, 5.213, 7.892, 11.619, 16.478, 22.540, 29.863, 38.494, 48.475]\n",
    "print(x)\n",
    "print (y)"
   ]
  },
  {
   "cell_type": "markdown",
   "metadata": {},
   "source": [
    "* Función para aproximar la primera y/o segunda derivada de una tabla de datos\n",
    "suministrada como variable de entrada al programa:"
   ]
  },
  {
   "cell_type": "code",
   "execution_count": 13,
   "metadata": {},
   "outputs": [
    {
     "name": "stdout",
     "output_type": "stream",
     "text": [
      "x= [15 20 25 30 35 40 45 50 55 60 65 70 75 80 85]\n",
      "y= [-0.366, 1.697, 2.245, 2.224, 2.196, 2.527, 3.471, 5.213, 7.892, 11.619, 16.478, 22.54, 29.863, 38.494, 48.475]\n",
      "y' = [ 0.4126  0.1096 -0.0042 -0.0056  0.0662  0.1888  0.3484  0.5358  0.7454\n",
      "  0.9718  1.2124  1.4646  1.7262  1.9962]\n",
      "y'' = [-0.0606  -0.02276 -0.00028  0.01436  0.02452  0.03192  0.03748  0.04192\n",
      "  0.04528  0.04812  0.05044  0.05232  0.054  ]\n"
     ]
    }
   ],
   "source": [
    "#Derivada diferencia hacia adelante\n",
    "\n",
    "# Vector de diferencias hacia adelante\n",
    "dif_adelante= np.diff(y)/h\n",
    "segunda_dif_adelante= np.diff(dif_adelante)/h\n",
    "\n",
    "\n",
    "print(\"x=\" , x)\n",
    "print(\"y=\" , y)\n",
    "print(\"y' =\" , dif_adelante)    \n",
    "print(\"y'' =\" , segunda_dif_adelante)"
   ]
  },
  {
   "cell_type": "markdown",
   "metadata": {},
   "source": [
    "* Gráfica para visualizar Función y primera Derivada"
   ]
  },
  {
   "cell_type": "code",
   "execution_count": 14,
   "metadata": {},
   "outputs": [
    {
     "data": {
      "image/png": "[encoded data removed]",
      "text/plain": [
       "<Figure size 864x576 with 1 Axes>"
      ]
     },
     "metadata": {
      "needs_background": "light"
     },
     "output_type": "display_data"
    }
   ],
   "source": [
    "import matplotlib.pyplot as plt\n",
    "plt.style.use(\"seaborn-poster\")\n",
    "%matplotlib inline\n",
    "\n",
    "# Grilla\n",
    "x_dif= x[:-1:]\n",
    "y = [-0.366, 1.697, 2.245, 2.224, 2.196, 2.527, 3.471, 5.213, 7.892, 11.619, 16.478, 22.540, 29.863, 38.494]\n",
    "# Graficar Solución\n",
    "plt.figure(figsize= (12, 8))\n",
    "plt.plot(x_dif, dif_adelante,\"-\",\\\n",
    "         label= \"Primera Derivada\")\n",
    "plt.plot(x_dif, y, label= \"Función Original\")\n",
    "\n",
    "plt.legend()\n",
    "plt.show()"
   ]
  },
  {
   "cell_type": "markdown",
   "metadata": {},
   "source": [
    "### Integral"
   ]
  },
  {
   "cell_type": "code",
   "execution_count": 13,
   "metadata": {},
   "outputs": [
    {
     "name": "stdout",
     "output_type": "stream",
     "text": [
      "sin(t)\n"
     ]
    }
   ],
   "source": [
    "from sympy import *\n",
    "from sympy.abc import x, t\n",
    "func = sin(t)\n",
    "a = 0\n",
    "b = 5\n",
    "h = 0.5\n",
    "print(func)\n",
    "\n",
    "Sol_exacta=0.7163378145367737 #Para la integral del sen(t) entre 0 y 5."
   ]
  },
  {
   "cell_type": "markdown",
   "metadata": {},
   "source": [
    "* Método del Trapecio Simple.\n",
    "\n",
    "     Tiene de entrada la función (func) y a, b como limites de integración."
   ]
  },
  {
   "cell_type": "code",
   "execution_count": 17,
   "metadata": {},
   "outputs": [
    {
     "name": "stdout",
     "output_type": "stream",
     "text": [
      "Integral por trapecio simple = -2.39731068665785\n",
      "Error = -3.11364850119462\n"
     ]
    }
   ],
   "source": [
    "def trapecio_simple(func, a, b):\n",
    "    \n",
    "    def f(r): return func.subs('t', r).evalf()\n",
    "    resultado = (b-a) / 2 * (f(a) + f(b))\n",
    "    return resultado\n",
    "\n",
    "ts= trapecio_simple(func, a, b)\n",
    "\n",
    "Error = ts - Sol_exacta \n",
    "print(\"Integral por trapecio simple =\", ts)\n",
    "print(\"Error Absoluto=\", Error)"
   ]
  },
  {
   "cell_type": "markdown",
   "metadata": {},
   "source": [
    "* Método de Trapecio Compuesto\n",
    "\n",
    "    Tiene de entrada la función (func), a, b como limites de integración y h define el paso."
   ]
  },
  {
   "cell_type": "code",
   "execution_count": 19,
   "metadata": {},
   "outputs": [
    {
     "name": "stdout",
     "output_type": "stream",
     "text": [
      "Integral por Trapecio Compuesto = 0.701351555505722\n",
      "Error Absoluto= -0.0149862590310512\n"
     ]
    }
   ],
   "source": [
    "def trapecio_comp(func, a, b, h):\n",
    "    \n",
    "    def f(r): return func.subs('t', r).evalf()\n",
    "    summ = sum([f(a+i*h) for i in range(int(b/h))])\n",
    "    resultado = h / 2 * (f(a) + f(b)) + h*summ\n",
    "    return resultado\n",
    "\n",
    "\n",
    "tc= trapecio_comp(func, a, b, h)\n",
    "\n",
    "Error = tc - Sol_exacta \n",
    "print(\"Integral por Trapecio Compuesto =\", tc)\n",
    "print(\"Error Absoluto=\", Error)"
   ]
  },
  {
   "cell_type": "markdown",
   "metadata": {},
   "source": [
    "* Método de Simpson Simple\n",
    "\n",
    "    Tiene de entrada la función (func) y a, b como límites de integración."
   ]
  },
  {
   "cell_type": "code",
   "execution_count": 20,
   "metadata": {},
   "outputs": [
    {
     "name": "stdout",
     "output_type": "stream",
     "text": [
      "Integral por Trapecio Compuesto = 1.19580358479391\n",
      "Error Absoluto= 0.479465770257132\n"
     ]
    }
   ],
   "source": [
    "def simpson_simple(func, a, b):\n",
    "       \n",
    "    def f(r): return func.subs('t', r).evalf()\n",
    "    resultado = (b-a) / 6 * (f(a) + 4*f((a+b)/2) + f(b))\n",
    "    return resultado\n",
    "\n",
    "\n",
    "ss= simpson_simple(func, a, b)\n",
    "\n",
    "Error = ss - Sol_exacta \n",
    "print(\"Integral por Trapecio Compuesto =\", ss)\n",
    "print(\"Error Absoluto=\", Error)"
   ]
  },
  {
   "cell_type": "markdown",
   "metadata": {},
   "source": [
    "* Método de Simpson Compuesta\n",
    "\n",
    "Tiene de entrada la función (func), a, b como limites de integración y h define el paso."
   ]
  },
  {
   "cell_type": "code",
   "execution_count": 21,
   "metadata": {},
   "outputs": [
    {
     "name": "stdout",
     "output_type": "stream",
     "text": [
      "Integral por Trapecio Compuesto = 0.716594144989647\n",
      "Error Absoluto= 0.000256330452873654\n"
     ]
    }
   ],
   "source": [
    "def simpson_comp(func, a, b, h):\n",
    "    \n",
    "    n = int(b//h)\n",
    "    h = (b-a) / n\n",
    "    def f(r): return func.subs('t', r).evalf()\n",
    "    summ1 = sum([f(a+(2*i-2)*h) for i in range(2, int(n/2)+1)])\n",
    "    summ2 = sum([f(a+(2*i-1)*h) for i in range(1, int(n/2)+1)])\n",
    "    resultado = (h) / 3 * (f(a) + 2*summ1 + 4*summ2 + f(b))\n",
    "    return resultado\n",
    "\n",
    "sc= simpson_comp(func, a, b, h)\n",
    "\n",
    "Error = sc - Sol_exacta \n",
    "print(\"Integral por Trapecio Compuesto =\", sc)\n",
    "print(\"Error Absoluto=\", Error)"
   ]
  },
  {
   "cell_type": "markdown",
   "metadata": {},
   "source": [
    "## Conclusiones\n",
    "\n",
    "Los métodos desarrollados por grandes matemáticos en tiempos pasados para resolver los problemas de derivación e integración, hoy en día siguen siendo vigentes y son de suma utilidad. Se usan sobretodo en casos donde se tiene data de experimentos, donde por la naturaleza de las mediciones se debe recurrir a estos algoritmos numéricos, para obtener resultados que de otra forma serian imposibles. \n",
    "\n",
    "En los experimentos llevados a cabo, se obtuvo que las mejores aproximaciones vinieron dadas por las reglas compuestas (Trapecio y Simpson) de los métodos de integración, ya que generaron el menor error.\n",
    "\n",
    "Estas técnicas, son a su vez pilares para resolver problemas mas grandes, como las ecuaciones diferenciales."
   ]
  },
  {
   "cell_type": "markdown",
   "metadata": {},
   "source": [
    "## Referencias\n",
    "\n",
    "\n",
    "Análisis numérico,10a. ed. Autores : Richard L. Burden ,J. Douglas Faires y Annette M. Burden.\n",
    "\n",
    "[Derivación Numérica. Wikipedia](https://es.wikipedia.org/wiki/Derivaci%C3%B3n_num%C3%A9rica)\n",
    "\n",
    "[Integración Numérica. Wikipedia](https://es.wikipedia.org/wiki/Integraci%C3%B3n_num%C3%A9rica)\n",
    "\n",
    "Integración y Diferenciación Numérica. Autor: Pereira A.\n",
    "\n",
    "Python Programming and Numerical Methods. Autores: Qingkai K., Siauw T., Bayen A.\n",
    "\n",
    "[Numerical Methods: Integration and Differentiation. Youtube](https://www.youtube.com/playlist?list=PLYdroRCLMg5OvLx1EtY1ByvveJeTEXQd_)\n",
    "\n",
    "\n",
    "[Regla de Simpson. Wikipedia](https://es.wikipedia.org/wiki/Regla_de_Simpson)\n",
    "\n",
    "Diferenciación e Integración. Autor: Gilberto Noguera."
   ]
  }
 ],
 "metadata": {
  "kernelspec": {
   "display_name": "Python 3",
   "language": "python",
   "name": "python3"
  },
  "language_info": {
   "codemirror_mode": {
    "name": "ipython",
    "version": 3
   },
   "file_extension": ".py",
   "mimetype": "text/x-python",
   "name": "python",
   "nbconvert_exporter": "python",
   "pygments_lexer": "ipython3",
   "version": "3.8.3"
  }
 },
 "nbformat": 4,
 "nbformat_minor": 4
}
